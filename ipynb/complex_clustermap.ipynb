{
 "cells": [
  {
   "cell_type": "markdown",
   "id": "d7f1803a-b6cf-4980-ac80-388ecf3e0996",
   "metadata": {},
   "source": [
    "Drawing complex heatmap with clustering"
   ]
  },
  {
   "cell_type": "code",
   "execution_count": null,
   "id": "941a75f2-72f6-419b-9d40-b18006333288",
   "metadata": {},
   "outputs": [],
   "source": [
    "import seaborn as sns\n",
    "from omniplot import plot as op\n",
    "import pandas as pd"
   ]
  },
  {
   "cell_type": "markdown",
   "id": "3e30159e-492d-4218-85dd-61e20849bd24",
   "metadata": {},
   "source": [
    "in the case, you want to use GUI, put the following line in to the code block\n",
    "```\n",
    "%matplotlib tk \n",
    "```\n",
    "for macos, \"%matplotlib qt5\" may work after installing pyqt5 with pip"
   ]
  },
  {
   "cell_type": "code",
   "execution_count": null,
   "id": "68d0fd09-fb56-48a1-a291-78e8d232c250",
   "metadata": {},
   "outputs": [],
   "source": [
    "%config InlineBackend.print_figure_kwargs={'bbox_inches': None}"
   ]
  },
  {
   "cell_type": "markdown",
   "id": "14942750-8ab3-4231-80e1-0d899daa6a64",
   "metadata": {},
   "source": []
  },
  {
   "cell_type": "code",
   "execution_count": null,
   "id": "c83936c6-6b76-4381-ba01-92d928483d09",
   "metadata": {},
   "outputs": [
    {
     "ename": "TypeError",
     "evalue": "complex_clustermap() missing 1 required positional argument: 'heatmap_col'",
     "output_type": "error",
     "traceback": [
      "\u001b[0;31m---------------------------------------------------------------------------\u001b[0m",
      "\u001b[0;31mTypeError\u001b[0m                                 Traceback (most recent call last)",
      "\u001b[0;32m<ipython-input-4-2e1fb501a355>\u001b[0m in \u001b[0;36m<module>\u001b[0;34m\u001b[0m\n\u001b[1;32m      3\u001b[0m \u001b[0mdf\u001b[0m\u001b[0;34m=\u001b[0m\u001b[0mdf\u001b[0m\u001b[0;34m.\u001b[0m\u001b[0mdropna\u001b[0m\u001b[0;34m(\u001b[0m\u001b[0maxis\u001b[0m\u001b[0;34m=\u001b[0m\u001b[0;36m0\u001b[0m\u001b[0;34m)\u001b[0m\u001b[0;34m\u001b[0m\u001b[0;34m\u001b[0m\u001b[0m\n\u001b[1;32m      4\u001b[0m \u001b[0mdfcol\u001b[0m\u001b[0;34m=\u001b[0m\u001b[0mpd\u001b[0m\u001b[0;34m.\u001b[0m\u001b[0mDataFrame\u001b[0m\u001b[0;34m(\u001b[0m\u001b[0;34m{\u001b[0m\u001b[0;34m\"features\"\u001b[0m\u001b[0;34m:\u001b[0m\u001b[0;34m[\u001b[0m\u001b[0;34m\"bill\"\u001b[0m\u001b[0;34m,\u001b[0m\u001b[0;34m\"bill\"\u001b[0m\u001b[0;34m,\u001b[0m\u001b[0;34m\"flipper\"\u001b[0m\u001b[0;34m]\u001b[0m\u001b[0;34m}\u001b[0m\u001b[0;34m)\u001b[0m\u001b[0;34m\u001b[0m\u001b[0;34m\u001b[0m\u001b[0m\n\u001b[0;32m----> 5\u001b[0;31m res=op.complex_clustermap(df,dfcol=dfcol,\n\u001b[0m\u001b[1;32m      6\u001b[0m \u001b[0;34m\u001b[0m\u001b[0m\n\u001b[1;32m      7\u001b[0m                     \u001b[0mvariables\u001b[0m\u001b[0;34m=\u001b[0m\u001b[0;34m[\u001b[0m\u001b[0;34m\"bill_length_mm\"\u001b[0m\u001b[0;34m,\u001b[0m\u001b[0;34m\"bill_depth_mm\"\u001b[0m\u001b[0;34m,\u001b[0m\u001b[0;34m\"flipper_length_mm\"\u001b[0m\u001b[0;34m]\u001b[0m\u001b[0;34m,\u001b[0m\u001b[0;34m\u001b[0m\u001b[0;34m\u001b[0m\u001b[0m\n",
      "\u001b[0;31mTypeError\u001b[0m: complex_clustermap() missing 1 required positional argument: 'heatmap_col'"
     ]
    }
   ],
   "source": [
    "df=sns.load_dataset(\"penguins\")\n",
    "\n",
    "df=df.dropna(axis=0)\n",
    "dfcol=pd.DataFrame({\"features\":[\"bill\",\"bill\",\"flipper\"]})\n",
    "res=op.complex_clustermap(df,dfcol=dfcol,\n",
    "\n",
    "                    heatmap_col=[\"bill_length_mm\",\"bill_depth_mm\",\"flipper_length_mm\"],\n",
    "                    row_colors=[\"species\",\"sex\"],\n",
    "                    row_scatter=[\"body_mass_g\"],\n",
    "                    row_plot=[\"body_mass_g\"],\n",
    "                    row_bar=[\"body_mass_g\"],\n",
    "                    col_colors=[\"features\"],\n",
    "                    approx_clusternum=3,\n",
    "                    merginalsum=True)"
   ]
  },
  {
   "cell_type": "code",
   "execution_count": null,
   "id": "7722f37b-aa9d-4391-80f5-f682158de585",
   "metadata": {},
   "outputs": [],
   "source": []
  }
 ],
 "metadata": {
  "kernelspec": {
   "display_name": "Python 3",
   "language": "python",
   "name": "python3"
  },
  "language_info": {
   "codemirror_mode": {
    "name": "ipython",
    "version": 3
   },
   "file_extension": ".py",
   "mimetype": "text/x-python",
   "name": "python",
   "nbconvert_exporter": "python",
   "pygments_lexer": "ipython3",
   "version": "3.8.10"
  }
 },
 "nbformat": 4,
 "nbformat_minor": 5
}
