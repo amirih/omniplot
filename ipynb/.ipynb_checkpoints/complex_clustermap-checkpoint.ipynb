{
 "cells": [
  {
   "cell_type": "code",
   "execution_count": null,
   "id": "4806498b-e499-4d9f-805a-969f581a0898",
   "metadata": {},
   "outputs": [],
   "source": [
    "import seaborn as sns\n",
    "from omniplot import plot as op\n",
    "import pandas as pd"
   ]
  },
  {
   "cell_type": "code",
   "execution_count": null,
   "id": "c83936c6-6b76-4381-ba01-92d928483d09",
   "metadata": {},
   "outputs": [],
   "source": [
    "df=sns.load_dataset(\"penguins\")\n",
    "\n",
    "df=df.dropna(axis=0)\n",
    "dfcol=pd.DataFrame({\"features\":[\"bill\",\"bill\",\"flipper\"]})\n",
    "complex_clustermap(df,dfcol=dfcol,\n",
    "\n",
    "                    heatmap_col=[\"bill_length_mm\",\"bill_depth_mm\",\"flipper_length_mm\"],\n",
    "                    row_colors=[\"species\",\"sex\"],\n",
    "                    row_scatter=[\"body_mass_g\"],\n",
    "                    row_plot=[\"body_mass_g\"],\n",
    "                    row_bar=[\"body_mass_g\"],\n",
    "                    col_colors=[\"features\"],\n",
    "                    approx_clusternum=3,\n",
    "                    merginalsum=True)\n",
    "plt.show()"
   ]
  }
 ],
 "metadata": {
  "kernelspec": {
   "display_name": "Python 3",
   "language": "python",
   "name": "python3"
  },
  "language_info": {
   "name": ""
  }
 },
 "nbformat": 4,
 "nbformat_minor": 5
}
