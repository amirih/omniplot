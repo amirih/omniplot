{
 "cells": [
  {
   "cell_type": "code",
   "execution_count": 1,
   "id": "7c2a4255-04f7-4821-9325-c7b8f1e0f1b6",
   "metadata": {},
   "outputs": [],
   "source": [
    "import seaborn as sns\n",
    "from omniplot import plot as op"
   ]
  },
  {
   "cell_type": "code",
   "execution_count": 2,
   "id": "d95cdd0f-7757-4ee7-b51c-06e1ac510ecb",
   "metadata": {},
   "outputs": [],
   "source": [
    "%config InlineBackend.print_figure_kwargs={'bbox_inches': None}"
   ]
  },
  {
   "cell_type": "code",
   "execution_count": null,
   "id": "08d06d96-dce3-423b-aa1f-0d2251a10665",
   "metadata": {},
   "outputs": [
    {
     "name": "stdout",
     "output_type": "stream",
     "text": [
      "[[ 0.          0.99321767  0.6496395  ... -0.85241055 -0.80663692\n",
      "  -0.78071447]\n",
      " [ 0.99321767  0.          0.57833879 ... -0.79203661 -0.73435904\n",
      "  -0.72361675]\n",
      " [ 0.6496395   0.57833879  0.         ... -0.93823497 -0.92344196\n",
      "  -0.98125748]\n",
      " ...\n",
      " [-0.85241055 -0.79203661 -0.93823497 ...  0.          0.98924331\n",
      "   0.97549298]\n",
      " [-0.80663692 -0.73435904 -0.92344196 ...  0.98924331  0.\n",
      "   0.94644652]\n",
      " [-0.78071447 -0.72361675 -0.98125748 ...  0.97549298  0.94644652\n",
      "   0.        ]]\n"
     ]
    }
   ],
   "source": [
    "df=sns.load_dataset(\"penguins\")\n",
    "df=df.dropna(axis=0)\n",
    "res=op.correlation(df, category=[\"species\", \"island\",\"sex\"], method=\"pearson\", ztransform=True)"
   ]
  },
  {
   "cell_type": "code",
   "execution_count": null,
   "id": "6db74e05-5631-4af4-b7b4-b2c5a6b9bea4",
   "metadata": {},
   "outputs": [],
   "source": []
  }
 ],
 "metadata": {
  "kernelspec": {
   "display_name": "Python 3",
   "language": "python",
   "name": "python3"
  },
  "language_info": {
   "codemirror_mode": {
    "name": "ipython",
    "version": 3
   },
   "file_extension": ".py",
   "mimetype": "text/x-python",
   "name": "python",
   "nbconvert_exporter": "python",
   "pygments_lexer": "ipython3",
   "version": "3.8.10"
  }
 },
 "nbformat": 4,
 "nbformat_minor": 5
}
