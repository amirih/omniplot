{
 "cells": [
  {
   "cell_type": "code",
   "execution_count": 1,
   "id": "a7faa025-6f29-409c-b7f6-b2bef0865ef5",
   "metadata": {},
   "outputs": [],
   "source": [
    "import pandas as pd\n",
    "import matplotlib.pyplot as plt\n",
    "import seaborn\n",
    "import matplotlib.collections as mc\n",
    "from matplotlib import transforms\n",
    "import numpy as np\n",
    "from sklearn.cluster import AgglomerativeClustering\n",
    "import scipy.cluster.hierarchy as sch\n",
    "import fastcluster as fcl\n",
    "from scipy.spatial.distance import pdist, squareform\n",
    "from matplotlib.collections import PatchCollection\n",
    "from matplotlib.patches import Rectangle, Circle, RegularPolygon, Polygon\n",
    "import matplotlib as mpl\n",
    "from decimal import Decimal\n",
    "import seaborn as sns\n",
    "from PIL import Image\n"
   ]
  },
  {
   "cell_type": "code",
   "execution_count": 2,
   "id": "6d131e5a",
   "metadata": {},
   "outputs": [],
   "source": [
    "from omniplot import plot as  op"
   ]
  },
  {
   "cell_type": "code",
   "execution_count": 3,
   "id": "282b41e7",
   "metadata": {},
   "outputs": [
    {
     "data": {
      "text/plain": [
       "'/home/koh/anaconda3/envs/omniplot310t/lib/python3.10/site-packages/omniplot/plot.py'"
      ]
     },
     "execution_count": 3,
     "metadata": {},
     "output_type": "execute_result"
    }
   ],
   "source": [
    "op.__file__"
   ]
  },
  {
   "cell_type": "code",
   "execution_count": 4,
   "id": "4e41d374-239b-4962-a03b-ea713be1e13e",
   "metadata": {},
   "outputs": [],
   "source": [
    "%matplotlib tk"
   ]
  },
  {
   "cell_type": "code",
   "execution_count": 5,
   "id": "ac453962-299d-4aec-b530-a2bcd442a6fc",
   "metadata": {},
   "outputs": [],
   "source": [
    "im=Image.open(\"/home/koh/Pictures/wave512.jpg\")"
   ]
  },
  {
   "cell_type": "code",
   "execution_count": 6,
   "id": "2a8f9653",
   "metadata": {},
   "outputs": [
    {
     "data": {
      "text/plain": [
       "<matplotlib.image.AxesImage at 0x7fe585d27550>"
      ]
     },
     "execution_count": 6,
     "metadata": {},
     "output_type": "execute_result"
    }
   ],
   "source": [
    "plt.imshow(np.array(im)[:,:,0])"
   ]
  },
  {
   "cell_type": "code",
   "execution_count": 7,
   "id": "531c87cd",
   "metadata": {},
   "outputs": [
    {
     "name": "stdout",
     "output_type": "stream",
     "text": [
      "Assuming data is a wide form\n",
      "figsize:  [14.586894586894587, 10.0]\n"
     ]
    },
    {
     "data": {
      "text/plain": [
       "{'row_clsuter': {},\n",
       " 'col_cluster': {},\n",
       " 'axes': {'heatmap': <Axes: >, 'colorbar': <Axes: xlabel='z-score'>},\n",
       " 'colsort': array([  0,   1,   2,   3,   4,   5,   6,   7,   8,   9,  10,  11,  12,\n",
       "         13,  14,  15,  16,  17,  18,  19,  20,  21,  22,  23,  24,  25,\n",
       "         26,  27,  28,  29,  30,  31,  32,  33,  34,  35,  36,  37,  38,\n",
       "         39,  40,  41,  42,  43,  44,  45,  46,  47,  48,  49,  50,  51,\n",
       "         52,  53,  54,  55,  56,  57,  58,  59,  60,  61,  62,  63,  64,\n",
       "         65,  66,  67,  68,  69,  70,  71,  72,  73,  74,  75,  76,  77,\n",
       "         78,  79,  80,  81,  82,  83,  84,  85,  86,  87,  88,  89,  90,\n",
       "         91,  92,  93,  94,  95,  96,  97,  98,  99, 100, 101, 102, 103,\n",
       "        104, 105, 106, 107, 108, 109, 110, 111, 112, 113, 114, 115, 116,\n",
       "        117, 118, 119, 120, 121, 122, 123, 124, 125, 126, 127, 128, 129,\n",
       "        130, 131, 132, 133, 134, 135, 136, 137, 138, 139, 140, 141, 142,\n",
       "        143, 144, 145, 146, 147, 148, 149, 150, 151, 152, 153, 154, 155,\n",
       "        156, 157, 158, 159, 160, 161, 162, 163, 164, 165, 166, 167, 168,\n",
       "        169, 170, 171, 172, 173, 174, 175, 176, 177, 178, 179, 180, 181,\n",
       "        182, 183, 184, 185, 186, 187, 188, 189, 190, 191, 192, 193, 194,\n",
       "        195, 196, 197, 198, 199, 200, 201, 202, 203, 204, 205, 206, 207,\n",
       "        208, 209, 210, 211, 212, 213, 214, 215, 216, 217, 218, 219, 220,\n",
       "        221, 222, 223, 224, 225, 226, 227, 228, 229, 230, 231, 232, 233,\n",
       "        234, 235, 236, 237, 238, 239, 240, 241, 242, 243, 244, 245, 246,\n",
       "        247, 248, 249, 250, 251, 252, 253, 254, 255, 256, 257, 258, 259,\n",
       "        260, 261, 262, 263, 264, 265, 266, 267, 268, 269, 270, 271, 272,\n",
       "        273, 274, 275, 276, 277, 278, 279, 280, 281, 282, 283, 284, 285,\n",
       "        286, 287, 288, 289, 290, 291, 292, 293, 294, 295, 296, 297, 298,\n",
       "        299, 300, 301, 302, 303, 304, 305, 306, 307, 308, 309, 310, 311,\n",
       "        312, 313, 314, 315, 316, 317, 318, 319, 320, 321, 322, 323, 324,\n",
       "        325, 326, 327, 328, 329, 330, 331, 332, 333, 334, 335, 336, 337,\n",
       "        338, 339, 340, 341, 342, 343, 344, 345, 346, 347, 348, 349, 350,\n",
       "        351, 352, 353, 354, 355, 356, 357, 358, 359, 360, 361, 362, 363,\n",
       "        364, 365, 366, 367, 368, 369, 370, 371, 372, 373, 374, 375, 376,\n",
       "        377, 378, 379, 380, 381, 382, 383, 384, 385, 386, 387, 388, 389,\n",
       "        390, 391, 392, 393, 394, 395, 396, 397, 398, 399, 400, 401, 402,\n",
       "        403, 404, 405, 406, 407, 408, 409, 410, 411, 412, 413, 414, 415,\n",
       "        416, 417, 418, 419, 420, 421, 422, 423, 424, 425, 426, 427, 428,\n",
       "        429, 430, 431, 432, 433, 434, 435, 436, 437, 438, 439, 440, 441,\n",
       "        442, 443, 444, 445, 446, 447, 448, 449, 450, 451, 452, 453, 454,\n",
       "        455, 456, 457, 458, 459, 460, 461, 462, 463, 464, 465, 466, 467,\n",
       "        468, 469, 470, 471, 472, 473, 474, 475, 476, 477, 478, 479, 480,\n",
       "        481, 482, 483, 484, 485, 486, 487, 488, 489, 490, 491, 492, 493,\n",
       "        494, 495, 496, 497, 498, 499, 500, 501, 502, 503, 504, 505, 506,\n",
       "        507, 508, 509, 510, 511]),\n",
       " 'rowsort': array([  0,   1,   2,   3,   4,   5,   6,   7,   8,   9,  10,  11,  12,\n",
       "         13,  14,  15,  16,  17,  18,  19,  20,  21,  22,  23,  24,  25,\n",
       "         26,  27,  28,  29,  30,  31,  32,  33,  34,  35,  36,  37,  38,\n",
       "         39,  40,  41,  42,  43,  44,  45,  46,  47,  48,  49,  50,  51,\n",
       "         52,  53,  54,  55,  56,  57,  58,  59,  60,  61,  62,  63,  64,\n",
       "         65,  66,  67,  68,  69,  70,  71,  72,  73,  74,  75,  76,  77,\n",
       "         78,  79,  80,  81,  82,  83,  84,  85,  86,  87,  88,  89,  90,\n",
       "         91,  92,  93,  94,  95,  96,  97,  98,  99, 100, 101, 102, 103,\n",
       "        104, 105, 106, 107, 108, 109, 110, 111, 112, 113, 114, 115, 116,\n",
       "        117, 118, 119, 120, 121, 122, 123, 124, 125, 126, 127, 128, 129,\n",
       "        130, 131, 132, 133, 134, 135, 136, 137, 138, 139, 140, 141, 142,\n",
       "        143, 144, 145, 146, 147, 148, 149, 150, 151, 152, 153, 154, 155,\n",
       "        156, 157, 158, 159, 160, 161, 162, 163, 164, 165, 166, 167, 168,\n",
       "        169, 170, 171, 172, 173, 174, 175, 176, 177, 178, 179, 180, 181,\n",
       "        182, 183, 184, 185, 186, 187, 188, 189, 190, 191, 192, 193, 194,\n",
       "        195, 196, 197, 198, 199, 200, 201, 202, 203, 204, 205, 206, 207,\n",
       "        208, 209, 210, 211, 212, 213, 214, 215, 216, 217, 218, 219, 220,\n",
       "        221, 222, 223, 224, 225, 226, 227, 228, 229, 230, 231, 232, 233,\n",
       "        234, 235, 236, 237, 238, 239, 240, 241, 242, 243, 244, 245, 246,\n",
       "        247, 248, 249, 250, 251, 252, 253, 254, 255, 256, 257, 258, 259,\n",
       "        260, 261, 262, 263, 264, 265, 266, 267, 268, 269, 270, 271, 272,\n",
       "        273, 274, 275, 276, 277, 278, 279, 280, 281, 282, 283, 284, 285,\n",
       "        286, 287, 288, 289, 290, 291, 292, 293, 294, 295, 296, 297, 298,\n",
       "        299, 300, 301, 302, 303, 304, 305, 306, 307, 308, 309, 310, 311,\n",
       "        312, 313, 314, 315, 316, 317, 318, 319, 320, 321, 322, 323, 324,\n",
       "        325, 326, 327, 328, 329, 330, 331, 332, 333, 334, 335, 336, 337,\n",
       "        338, 339, 340, 341, 342, 343, 344, 345, 346, 347, 348, 349, 350])}"
      ]
     },
     "execution_count": 7,
     "metadata": {},
     "output_type": "execute_result"
    },
    {
     "name": "stderr",
     "output_type": "stream",
     "text": [
      "/home/koh/anaconda3/envs/omniplot310t/lib/python3.10/tkinter/__init__.py:839: UserWarning: There are no gridspecs with layoutgrids. Possibly did not call parent GridSpec with the \"figure\" keyword\n",
      "  func(*args)\n"
     ]
    }
   ],
   "source": [
    "op.heatmap(pd.DataFrame(np.array(im)[:,:,1][::-1]),row_cluster=False, col_cluster=False)"
   ]
  },
  {
   "cell_type": "code",
   "execution_count": 8,
   "id": "3fdda4b3",
   "metadata": {},
   "outputs": [],
   "source": [
    "df=sns.load_dataset(\"penguins\")"
   ]
  },
  {
   "cell_type": "code",
   "execution_count": 9,
   "id": "1acca6d1-a2e2-4289-86c4-0482a7afe729",
   "metadata": {},
   "outputs": [],
   "source": [
    "_df=df[[\"species\",\"island\", \"sex\"]]"
   ]
  },
  {
   "cell_type": "code",
   "execution_count": 10,
   "id": "216d1f28-05ac-4f53-9ea9-b2a3be2d3333",
   "metadata": {},
   "outputs": [
    {
     "data": {
      "text/plain": [
       "array([['Adelie', 'Torgersen', 'Male'],\n",
       "       ['Adelie', 'Torgersen', 'Female'],\n",
       "       ['Adelie', 'Torgersen', 'Female'],\n",
       "       ...,\n",
       "       ['Gentoo', 'Biscoe', 'Male'],\n",
       "       ['Gentoo', 'Biscoe', 'Female'],\n",
       "       ['Gentoo', 'Biscoe', 'Male']], dtype=object)"
      ]
     },
     "execution_count": 10,
     "metadata": {},
     "output_type": "execute_result"
    }
   ],
   "source": [
    "_df.values"
   ]
  },
  {
   "cell_type": "code",
   "execution_count": 11,
   "id": "d75343a9-f7c6-4ce8-b21f-554a42bd4f01",
   "metadata": {},
   "outputs": [],
   "source": [
    "_df=_df.fillna(\"NA\")"
   ]
  },
  {
   "cell_type": "code",
   "execution_count": 12,
   "id": "a6e15077-59d4-4c6c-89e6-351a7621d375",
   "metadata": {},
   "outputs": [
    {
     "name": "stdout",
     "output_type": "stream",
     "text": [
      "Init: initializing centroids\n",
      "Init: initializing clusters\n",
      "Starting iterations...\n",
      "Run 1, iteration: 1/100, moves: 28, cost: 265.0\n",
      "Init: initializing centroids\n",
      "Init: initializing clusters\n",
      "Starting iterations...\n",
      "Run 2, iteration: 1/100, moves: 34, cost: 253.0\n",
      "Init: initializing centroids\n",
      "Init: initializing clusters\n",
      "Starting iterations...\n",
      "Run 3, iteration: 1/100, moves: 80, cost: 236.0\n",
      "Init: initializing centroids\n",
      "Init: initializing clusters\n",
      "Starting iterations...\n",
      "Run 4, iteration: 1/100, moves: 0, cost: 267.0\n",
      "Init: initializing centroids\n",
      "Init: initializing clusters\n",
      "Starting iterations...\n",
      "Run 5, iteration: 1/100, moves: 129, cost: 226.0\n",
      "Run 5, iteration: 2/100, moves: 22, cost: 226.0\n",
      "Best run was number 5\n"
     ]
    }
   ],
   "source": [
    "import numpy as np\n",
    "from kmodes.kmodes import KModes\n",
    "\n",
    "km = KModes(n_clusters=3, init='Huang', n_init=5, verbose=1)\n",
    "\n",
    "\n",
    "clusters = km.fit_predict(_df.values)"
   ]
  },
  {
   "cell_type": "code",
   "execution_count": null,
   "id": "cbb6472a-a4d8-4555-9fe6-fb4ae995ed3c",
   "metadata": {},
   "outputs": [],
   "source": []
  },
  {
   "cell_type": "code",
   "execution_count": 13,
   "id": "d61e59ce-ba9d-4499-acaa-a91c4ecc67a5",
   "metadata": {},
   "outputs": [
    {
     "name": "stderr",
     "output_type": "stream",
     "text": [
      "/tmp/ipykernel_8463/201308460.py:1: FutureWarning: In a future version of pandas all arguments of DataFrame.dropna will be keyword-only.\n",
      "  val=df[[\"bill_length_mm\",\"bill_depth_mm\",\"flipper_length_mm\"]].dropna(0)\n"
     ]
    }
   ],
   "source": [
    "val=df[[\"bill_length_mm\",\"bill_depth_mm\",\"flipper_length_mm\"]].dropna(0)"
   ]
  },
  {
   "cell_type": "code",
   "execution_count": 14,
   "id": "095a3d90-a79a-4d96-9240-5e1c36fc85db",
   "metadata": {},
   "outputs": [],
   "source": [
    "X=val.values"
   ]
  },
  {
   "cell_type": "code",
   "execution_count": 15,
   "id": "5d793c3c-3f95-494b-b5b5-98b617c467eb",
   "metadata": {},
   "outputs": [],
   "source": [
    "X=(X-np.mean(X,axis=0)[None,:])/np.std(X,axis=0)[None,:]"
   ]
  },
  {
   "cell_type": "code",
   "execution_count": 16,
   "id": "b16157b9-b49f-4bb4-aad1-658f938204cf",
   "metadata": {},
   "outputs": [],
   "source": [
    "from sklearn.cluster import KMeans"
   ]
  },
  {
   "cell_type": "code",
   "execution_count": 17,
   "id": "3817a9d4-4e16-4358-8128-09c0361a534f",
   "metadata": {},
   "outputs": [],
   "source": [
    "kmeans=KMeans(n_clusters=3, random_state=0, n_init=\"auto\").fit(X)"
   ]
  },
  {
   "cell_type": "code",
   "execution_count": 18,
   "id": "5dc937d6-0d67-4d18-9ca8-37f0028de970",
   "metadata": {},
   "outputs": [
    {
     "data": {
      "text/plain": [
       "array([ 1.66208827e-16, -1.41277503e-15, -8.31044135e-16])"
      ]
     },
     "execution_count": 18,
     "metadata": {},
     "output_type": "execute_result"
    }
   ],
   "source": [
    "X.mean(axis=0)"
   ]
  },
  {
   "cell_type": "code",
   "execution_count": 19,
   "id": "d2a89a62-df27-42c4-bb4f-821165f035f1",
   "metadata": {},
   "outputs": [
    {
     "data": {
      "text/plain": [
       "array([2, 2, 2, 2, 2, 2, 2, 2, 2, 2, 2, 2, 2, 2, 2, 2, 2, 2, 0, 2, 2, 2,\n",
       "       2, 2, 2, 2, 2, 2, 2, 2, 2, 2, 2, 2, 2, 2, 2, 2, 2, 2, 2, 2, 0, 2,\n",
       "       2, 2, 2, 2, 2, 2, 2, 2, 2, 2, 2, 2, 2, 2, 2, 2, 2, 2, 2, 2, 2, 2,\n",
       "       2, 2, 2, 2, 2, 2, 0, 2, 2, 2, 2, 2, 2, 2, 2, 2, 2, 2, 2, 2, 2, 2,\n",
       "       2, 2, 2, 2, 2, 2, 2, 2, 2, 2, 2, 2, 2, 2, 2, 2, 2, 2, 2, 2, 2, 2,\n",
       "       0, 2, 2, 2, 2, 2, 2, 2, 2, 2, 2, 2, 2, 2, 2, 2, 2, 2, 0, 2, 2, 2,\n",
       "       2, 2, 2, 2, 2, 2, 2, 2, 2, 2, 2, 2, 2, 2, 2, 2, 2, 2, 2, 0, 0, 0,\n",
       "       0, 0, 0, 0, 0, 0, 0, 0, 0, 0, 0, 0, 0, 0, 0, 0, 0, 2, 0, 2, 0, 0,\n",
       "       0, 0, 0, 0, 0, 2, 0, 2, 0, 0, 0, 0, 0, 0, 0, 0, 0, 0, 0, 0, 0, 0,\n",
       "       0, 0, 0, 0, 0, 0, 0, 2, 0, 0, 0, 0, 0, 0, 0, 0, 0, 0, 0, 0, 0, 1,\n",
       "       1, 1, 1, 1, 1, 1, 1, 1, 1, 1, 1, 1, 1, 1, 1, 1, 1, 1, 1, 1, 1, 1,\n",
       "       1, 1, 1, 1, 1, 1, 1, 1, 1, 1, 1, 1, 1, 1, 1, 1, 1, 1, 1, 1, 1, 1,\n",
       "       1, 1, 1, 1, 1, 1, 1, 1, 1, 1, 1, 1, 1, 1, 1, 1, 1, 1, 1, 1, 1, 1,\n",
       "       1, 1, 1, 1, 1, 1, 1, 1, 1, 1, 1, 1, 1, 1, 1, 1, 1, 1, 1, 1, 1, 1,\n",
       "       1, 1, 1, 1, 1, 1, 1, 1, 1, 1, 1, 1, 1, 1, 1, 1, 1, 1, 1, 1, 1, 1,\n",
       "       1, 1, 1, 1, 1, 1, 1, 1, 1, 1, 1, 1], dtype=int32)"
      ]
     },
     "execution_count": 19,
     "metadata": {},
     "output_type": "execute_result"
    }
   ],
   "source": [
    "kmeans.labels_"
   ]
  },
  {
   "cell_type": "code",
   "execution_count": 20,
   "id": "05211508-8467-46d8-a289-63a5bd00ef40",
   "metadata": {},
   "outputs": [],
   "source": [
    "dfX=pd.DataFrame(X, columns=[\"bill_length_mm\",\"bill_depth_mm\",\"flipper_length_mm\"])"
   ]
  },
  {
   "cell_type": "code",
   "execution_count": 21,
   "id": "9f82f778-a1c1-4170-ab24-cb5968d565b4",
   "metadata": {},
   "outputs": [],
   "source": [
    "dfX[\"kmeans\"]=kmeans.labels_\n",
    "dfX[\"mean\"]=X.mean(axis=1)"
   ]
  },
  {
   "cell_type": "code",
   "execution_count": 22,
   "id": "f572f8e8-5c9b-46bc-95a6-a90a545e2651",
   "metadata": {},
   "outputs": [],
   "source": [
    "dfX=dfX.sort_values(['kmeans', 'mean'], ascending=[True, True])"
   ]
  },
  {
   "cell_type": "code",
   "execution_count": 23,
   "id": "d6b3aabd-89a9-4a3d-ac41-15b2f0c06b2a",
   "metadata": {},
   "outputs": [
    {
     "data": {
      "text/plain": [
       "Int64Index([207, 157, 212, 163, 165, 192, 189, 213, 203, 194,\n",
       "            ...\n",
       "            130,  84, 136,  52,  34,  94,  48, 100,  60,  16],\n",
       "           dtype='int64', length=342)"
      ]
     },
     "execution_count": 23,
     "metadata": {},
     "output_type": "execute_result"
    }
   ],
   "source": [
    "dfX.index"
   ]
  },
  {
   "cell_type": "code",
   "execution_count": 24,
   "id": "fc812244-f171-483f-9b81-08d3e02aa281",
   "metadata": {},
   "outputs": [],
   "source": [
    "srtindex=np.lexsort((X.mean(axis=1),kmeans.labels_))"
   ]
  },
  {
   "cell_type": "code",
   "execution_count": 25,
   "id": "134f3869-0a44-4d20-a214-dd82c01a97de",
   "metadata": {},
   "outputs": [
    {
     "data": {
      "text/plain": [
       "array([207, 157, 212, 163, 165, 192, 189, 213, 203, 194, 179, 154, 151,\n",
       "       201, 161, 172, 186, 156, 169, 175, 215, 197, 187, 159, 200,  72,\n",
       "       210,  42, 216, 170, 128, 199, 110, 195, 185, 168, 158, 218, 177,\n",
       "       174, 153, 178, 193, 196, 152, 164, 209, 206,  18, 176, 184, 202,\n",
       "       167, 166, 208, 162, 160, 155, 204, 191, 217, 198, 211, 180, 190,\n",
       "       182, 188, 214, 235, 259, 227, 229, 257, 243, 327, 275, 255, 250,\n",
       "       325, 277, 279, 267, 219, 261, 224, 303, 265, 251, 264, 271, 231,\n",
       "       297, 317, 281, 269, 237, 225, 233, 305, 311, 245, 295, 337, 287,\n",
       "       331, 313, 340, 307, 240, 285, 221, 247, 241, 323, 333, 338, 301,\n",
       "       283, 273, 328, 223, 244, 232, 299, 292, 293, 335, 268, 276, 246,\n",
       "       228, 258, 270, 274, 289, 280, 242, 316, 321, 309, 226, 239, 324,\n",
       "       262, 319, 306, 290, 253, 249, 329, 238, 222, 315, 234, 236, 341,\n",
       "       298, 291, 256, 230, 248, 288, 254, 272, 322, 278, 336, 339, 263,\n",
       "       302, 312, 260, 300, 296, 266, 314, 326, 294, 330, 286, 318, 220,\n",
       "       284, 332, 304, 282, 310, 308, 334, 320, 252,  97, 141, 123,  57,\n",
       "       101,  91,  77,  59, 137,  29,  63, 107,  10, 121,  79,  43,  67,\n",
       "       149,  19,  65, 117,  27,  23,  30, 119,  61,  93,  17,  39,  53,\n",
       "         9,  14,  73, 135,  51, 143,   5, 115, 146,  99,   7,  33,  46,\n",
       "        47,  20,  41, 133, 181,  55,  69,   1,  22,  24,  11, 127, 171,\n",
       "       109,  83,  49, 140, 147,   0,  37, 183,  81, 142,  75, 125, 173,\n",
       "        86,  31, 129,  92,  76,  21, 139, 144,  26,  28, 148, 131, 205,\n",
       "        25,  36, 134,  71,  95, 104, 105, 111,  82,  89,  85,  38, 138,\n",
       "       103,  45,  70, 145,  32,  88,  87,   3,  50,  44,  58,   2, 118,\n",
       "        64, 132,  62, 102,  66,  15,  54, 106,  40,  56,  96,  80, 126,\n",
       "        35,  98,   6, 120, 114,  74,  13,   4, 124,  78, 150,  90, 122,\n",
       "       113, 116,  12,   8, 108,  68, 112, 130,  84, 136,  52,  34,  94,\n",
       "        48, 100,  60,  16])"
      ]
     },
     "execution_count": 25,
     "metadata": {},
     "output_type": "execute_result"
    }
   ],
   "source": [
    "srtindex"
   ]
  },
  {
   "cell_type": "code",
   "execution_count": 26,
   "id": "9a3643da-49f8-4cfd-bc17-07ee8f6c9774",
   "metadata": {},
   "outputs": [],
   "source": [
    "# m=np.mean(X, axis=1)\n",
    "# print(X.shape,m.shape)\n",
    "# msort=np.argsort(m)\n",
    "\n",
    "# X=X[msort]\n",
    "# _labels=kmeans.labels_[msort]\n",
    "\n",
    "# lsort=np.argsort(_labels)\n",
    "# X=X[lsort]\n",
    "# _labels=_labels[lsort]"
   ]
  },
  {
   "cell_type": "code",
   "execution_count": 27,
   "id": "1e97c96b-5efb-4d8e-980b-a585a1249690",
   "metadata": {},
   "outputs": [
    {
     "data": {
      "text/plain": [
       "dtype('<U5')"
      ]
     },
     "execution_count": 27,
     "metadata": {},
     "output_type": "execute_result"
    }
   ],
   "source": [
    "arr_1 = np.array([\"apple\", \"ball\", \"cat\", \"dog\"])\n",
    "arr_1.dtype"
   ]
  },
  {
   "cell_type": "code",
   "execution_count": 28,
   "id": "513ac2ab-998d-4bfb-a435-1f5b60ad0c85",
   "metadata": {},
   "outputs": [
    {
     "data": {
      "text/plain": [
       "True"
      ]
     },
     "execution_count": 28,
     "metadata": {},
     "output_type": "execute_result"
    }
   ],
   "source": [
    "type(arr_1[0])==np.str_"
   ]
  },
  {
   "cell_type": "code",
   "execution_count": 29,
   "id": "921fca19-6f30-4a7e-97b8-e4615d4eb93f",
   "metadata": {},
   "outputs": [
    {
     "data": {
      "text/plain": [
       "array([3, 5, 2])"
      ]
     },
     "execution_count": 29,
     "metadata": {},
     "output_type": "execute_result"
    }
   ],
   "source": [
    "a=[3,3,3,3,5,5,5,5,5,5,2,2,2]\n",
    "u, i, c=np.unique(a, return_counts=True, return_index=True\n",
    "         )\n",
    "u[np.argsort(i)]"
   ]
  },
  {
   "cell_type": "code",
   "execution_count": 30,
   "id": "4b9cb73a-b9a3-4093-814a-2c33e4f471fa",
   "metadata": {},
   "outputs": [],
   "source": [
    "d={\"a\":0}\n",
    "d.update({\"b\":1})"
   ]
  },
  {
   "cell_type": "code",
   "execution_count": 31,
   "id": "c9a1b863-fdb3-42e2-9f11-58e95285f63c",
   "metadata": {},
   "outputs": [
    {
     "data": {
      "text/plain": [
       "{'a': 0, 'b': 1}"
      ]
     },
     "execution_count": 31,
     "metadata": {},
     "output_type": "execute_result"
    }
   ],
   "source": [
    "d"
   ]
  },
  {
   "cell_type": "code",
   "execution_count": 32,
   "id": "2266b4a6-100b-4213-8816-23a32dc8e49e",
   "metadata": {},
   "outputs": [
    {
     "data": {
      "text/plain": [
       "array([-0.50579872, -0.58239602, -0.218398  , -0.26624278,  0.04126657,\n",
       "       -0.67016479, -0.01519041, -0.62806727,  0.13873929, -0.73705352,\n",
       "       -0.84568382, -0.54571612,  0.12363023,  0.02832773, -0.71583734,\n",
       "       -0.14718731,  0.42001039, -0.77266946,  0.69802881, -0.81908103,\n",
       "       -0.61514033, -0.4270213 , -0.56729425, -0.80144379, -0.56189974,\n",
       "       -0.38350707, -0.4129914 , -0.80973372, -0.41012837, -0.89064307,\n",
       "       -0.79461676, -0.46729995, -0.29071165, -0.62590165,  0.2621114 ,\n",
       "       -0.09073034, -0.37379982, -0.49609016, -0.32416197, -0.75936277,\n",
       "       -0.12020937, -0.61045512,  0.32505994, -0.8435169 , -0.24466464,\n",
       "       -0.3090582 , -0.61730065, -0.6169209 ,  0.34986367, -0.52556919,\n",
       "       -0.24466794, -0.67806507,  0.25780795, -0.74604817, -0.14467364,\n",
       "       -0.59606397, -0.11230118, -1.01976044, -0.22128153, -0.92300432,\n",
       "        0.36677441, -0.78992626, -0.20689368, -0.87013489, -0.21012986,\n",
       "       -0.8161645 , -0.14971549, -0.84278909,  0.18119546, -0.58383583,\n",
       "       -0.30616677, -0.37269226,  0.3175117 , -0.71510953,  0.01898311,\n",
       "       -0.47952019, -0.43242441, -0.98018581,  0.07760701, -0.84459146,\n",
       "       -0.10329994, -0.49320203, -0.34716932, -0.53059785,  0.20780155,\n",
       "       -0.32811146, -0.46730194, -0.28027528, -0.28746556, -0.33348287,\n",
       "        0.08481909, -0.99314115, -0.45795265, -0.77733617,  0.27292822,\n",
       "       -0.37018917, -0.11013756, -1.3833906 , -0.0277785 , -0.63058555,\n",
       "        0.35240375, -1.00033273, -0.15187451, -0.31119872, -0.36408466,\n",
       "       -0.36261714, -0.12741684, -0.85431322,  0.17544099, -0.53525795,\n",
       "        0.39950221, -0.35327644,  0.1988175 ,  0.10025372,  0.00280018,\n",
       "       -0.6575628 ,  0.11573194, -0.81114114, -0.21049642, -0.7942403 ,\n",
       "       -0.00187911, -0.84460926,  0.0995596 , -1.09887802,  0.06394566,\n",
       "       -0.47268986, -0.09431259, -0.54498171,  0.37004628, -0.46406046,\n",
       "        0.20313485, -0.39536145, -0.21012196, -0.61044983, -0.37270216,\n",
       "       -0.68525535,  0.24917326, -0.91113344, -0.31946817, -0.42412917,\n",
       "       -0.52520594, -1.30856198, -0.48168051, -0.67589945, -0.41695409,\n",
       "       -0.30293058, -0.63815228, -0.51512622, -0.40183382, -0.82337327,\n",
       "        0.08193426,  0.07257245,  0.65200229,  0.60955802,  0.0455879 ,\n",
       "        0.89154373,  0.11861946, -0.23352948,  0.5354757 ,  0.28226102,\n",
       "        0.84658579,  0.08552249,  0.84370096, -0.16445862,  0.65633153,\n",
       "       -0.14682667,  0.81817732,  0.77860599,  0.49768893,  0.13730747,\n",
       "        0.35959341, -0.54068086,  0.10350449, -0.46765591,  0.60056537,\n",
       "        0.15602057,  0.71350972,  0.59158792,  0.63186857,  0.02581413,\n",
       "        1.12138452, -0.60828751,  1.24726041, -0.49355269,  0.76099584,\n",
       "        0.45778205,  0.11394945,  0.27866687,  1.30949694, -0.12272366,\n",
       "        1.1472813 ,  0.92321478, -0.13208616,  0.6394155 , -0.04574991,\n",
       "        0.43656586,  0.65057507,  0.24521195,  0.98759844,  0.3948276 ,\n",
       "        0.31536197,  0.08301941,  0.77178226, -0.05402795,  0.89478982,\n",
       "       -0.39212787,  0.69193028, -0.25040851,  0.84299625,  0.68834074,\n",
       "        0.31858427,  1.00557384, -0.2169615 , -0.05726083,  1.31848829,\n",
       "        0.16034582,  0.33657156,  0.94875361,  0.57647756, -0.29532417,\n",
       "        0.91822182, -0.00795185,  0.44739918,  0.11110492, -0.24389385,\n",
       "       -0.10146718,  0.2862673 , -0.4801991 ,  0.21432681, -0.4575339 ,\n",
       "        0.49091271, -0.1762707 ,  0.12944487, -0.10074927,  0.46537918,\n",
       "       -0.51904263,  0.46970312, -0.1169355 ,  0.44596666,  0.30749078,\n",
       "       -0.04175552, -0.0036332 ,  0.25137127, -0.41293061,  0.12081348,\n",
       "       -0.08851053,  0.20785444, -0.00471566,  0.51178284,  0.39417309,\n",
       "       -0.3755381 , -0.23167361,  1.62353484,  0.3722324 ,  0.58299353,\n",
       "       -0.37732857,  0.48371844, -0.42732967,  0.21503481, -0.48991296,\n",
       "        0.72435293, -0.28345858,  0.34165371,  0.69125927, -0.18741707,\n",
       "       -0.23742148,  0.76247855, -0.30431352,  0.18411268, -0.11945048,\n",
       "        0.21721694, -0.17735846,  0.58588365,  0.07442171,  0.22296611,\n",
       "       -0.3888461 ,  0.18592165, -0.32410778,  0.63119955, -0.31403397,\n",
       "        0.23555819, -0.13023359,  1.10345671,  0.04529204,  0.99051367,\n",
       "       -0.01514082,  0.84700584, -0.0715998 ,  0.57509063,  0.22547978,\n",
       "        0.36611598,  0.4761755 ,  0.14203826,  0.14599235,  0.78190757,\n",
       "       -0.08816048,  0.74808279, -0.15397006,  0.47545559,  0.13160189,\n",
       "        0.73909544,  0.04456093,  0.7081667 , -0.24353259,  1.088699  ,\n",
       "       -0.09138546,  0.35784523, -0.05074947,  1.16495354,  0.26073047,\n",
       "        1.14049257, -0.08851713,  0.71140289, -0.06837351,  0.77075329,\n",
       "        0.46465797,  0.25138647, -0.14176102,  0.90058988,  0.3456144 ,\n",
       "        1.34982188,  0.25568861,  0.59595876, -0.00182753,  0.33265576,\n",
       "       -0.33453624,  0.78045395, -0.40251405,  0.10066325,  0.43049174,\n",
       "        0.81463668, -0.06873676,  1.00993808,  0.00536605,  1.1793447 ,\n",
       "        0.17188714,  0.63802658, -0.07232561,  0.0283813 ,  0.65133658,\n",
       "       -0.05614798,  0.47472318])"
      ]
     },
     "execution_count": 32,
     "metadata": {},
     "output_type": "execute_result"
    }
   ],
   "source": [
    "X.mean(axis=1)"
   ]
  },
  {
   "cell_type": "code",
   "execution_count": 33,
   "id": "05daad60-f7cc-48ce-bcc8-946563886f02",
   "metadata": {},
   "outputs": [
    {
     "data": {
      "text/plain": [
       "array(['0.9', 'str', '1'], dtype='<U32')"
      ]
     },
     "execution_count": 33,
     "metadata": {},
     "output_type": "execute_result"
    }
   ],
   "source": [
    "np.array([0.9, 'str', 1])"
   ]
  },
  {
   "cell_type": "code",
   "execution_count": 34,
   "id": "d3dd51f0-0203-46e3-96c3-9239b9b2c3c5",
   "metadata": {},
   "outputs": [
    {
     "data": {
      "text/plain": [
       "<Axes: >"
      ]
     },
     "execution_count": 34,
     "metadata": {},
     "output_type": "execute_result"
    }
   ],
   "source": [
    "plt.subplots()\n",
    "sns.heatmap(X)"
   ]
  },
  {
   "cell_type": "code",
   "execution_count": null,
   "id": "87ccf42f-ecb6-48ec-a0df-45b42ce8a140",
   "metadata": {},
   "outputs": [],
   "source": []
  },
  {
   "cell_type": "code",
   "execution_count": 241,
   "id": "fb9481d7-1b94-40f3-acde-43a47a9c7abd",
   "metadata": {},
   "outputs": [],
   "source": [
    "#sizes=np.array([mat[i,j] for i in range(mat.shape[0]) for j in range(mat.shape[1])])\n"
   ]
  },
  {
   "cell_type": "code",
   "execution_count": 242,
   "id": "f34ec30e-e271-419f-a180-22d79d1f492b",
   "metadata": {},
   "outputs": [],
   "source": [
    "mat=np.concatenate([0.5*np.random.uniform(0,1,size=[50, 25]),np.random.uniform(0,1,size=[25, 25])])"
   ]
  },
  {
   "cell_type": "code",
   "execution_count": 243,
   "id": "192c4b1b-9de2-4ab2-9105-87cfeae29033",
   "metadata": {},
   "outputs": [],
   "source": [
    "from scipy.stats import zscore"
   ]
  },
  {
   "cell_type": "code",
   "execution_count": 244,
   "id": "7dfd60e0-cafe-44d1-8262-34e06906103c",
   "metadata": {},
   "outputs": [],
   "source": [
    "mat=zscore(mat, axis=0)"
   ]
  },
  {
   "cell_type": "code",
   "execution_count": 245,
   "id": "53d9583a-fce9-46b9-ad8d-773c2276bc20",
   "metadata": {},
   "outputs": [],
   "source": [
    "labels=[\"sample\"+str(i) for i in range(75)]"
   ]
  },
  {
   "cell_type": "code",
   "execution_count": 246,
   "id": "998c560b-2ce3-4a3d-bc4c-5c7238d9c037",
   "metadata": {},
   "outputs": [
    {
     "name": "stderr",
     "output_type": "stream",
     "text": [
      "<ipython-input-246-e1ce0e46d333>:15: ClusterWarning: scipy.cluster: The symmetric non-negative hollow observation matrix looks suspiciously like an uncondensed distance matrix\n",
      "  Y = sch.linkage(D, method=\"ward\")\n",
      "<ipython-input-246-e1ce0e46d333>:27: ClusterWarning: scipy.cluster: The symmetric non-negative hollow observation matrix looks suspiciously like an uncondensed distance matrix\n",
      "  Yt = sch.linkage(Dt, method=\"ward\")\n"
     ]
    }
   ],
   "source": [
    "xori=0.1\n",
    "yori=0.1\n",
    "ltreew=0.15\n",
    "ltreeh=0.75\n",
    "ttreew=0.6\n",
    "ttreeh=0.1\n",
    "hmapw=ttreew\n",
    "hmaph=ltreeh\n",
    "_tcmap=plt.get_cmap(\"tab20c\")\n",
    "tcmap = _tcmap(np.linspace(0, 1, 5))\n",
    "sch.set_link_color_palette([mpl.colors.rgb2hex(rgb[:3]) for rgb in tcmap])\n",
    "fig=plt.figure(figsize=[8*mat.shape[1]/mat.shape[0],8,])\n",
    "ax0=fig.add_axes([xori,yori,ltreew,ltreeh])\n",
    "D=squareform(pdist(mat,metric=\"euclidean\"))\n",
    "Y = sch.linkage(D, method=\"ward\")\n",
    "\n",
    "Z = sch.dendrogram(Y,ax=ax0,orientation=\"left\",labels=labels,\n",
    "                   above_threshold_color='black')\n",
    "ax0.axis('off')\n",
    "\n",
    "_tcmap=plt.get_cmap(\"tab20b\")\n",
    "tcmap = _tcmap(np.linspace(0, 1, 5))\n",
    "sch.set_link_color_palette([mpl.colors.rgb2hex(rgb[:3]) for rgb in tcmap])\n",
    "ax1=fig.add_axes([xori+ltreew,yori+ltreeh,ttreew,ttreeh])\n",
    "\n",
    "Dt=squareform(pdist(mat.T,metric=\"euclidean\"))\n",
    "Yt = sch.linkage(Dt, method=\"ward\")\n",
    "\n",
    "Zt = sch.dendrogram(Yt,ax=ax1,orientation=\"top\",above_threshold_color='black')\n",
    "ax1.axis('off')\n",
    "\n",
    "mat=mat[Z['leaves']]\n",
    "mat=mat[:,Zt['leaves']]\n",
    "row_col=[ [j,i] for i in range(mat.shape[0]) for j in range(mat.shape[1])]\n",
    "sizes=mat.flatten()\n",
    "cmap=plt.get_cmap(\"hot\")\n",
    "# facecolors=np.array([cmap(i) for i in mat.flatten()])\n",
    "_mat=mat.flatten()\n",
    "_mat=(_mat-np.min(_mat))/(np.max(_mat)-np.min(_mat))\n",
    "facecolors=cmap(_mat)\n",
    "rect = [Rectangle((x - 0.5, y - 0.5), 1, 1)\n",
    "                  for x, y in row_col]\n",
    "# circle=[Circle((x, y), 0.5) for x, y in row_col]\n",
    "    # Create patch collection with specified colour/alpha\n",
    "pc = PatchCollection(rect, facecolor=facecolors, alpha=1,\n",
    "                     edgecolor=None)\n",
    "ax=fig.add_axes([xori+ltreew,yori,hmapw,hmaph])\n",
    "ax.add_collection(pc)\n",
    "ax.margins(0.00)\n",
    "_=ax.set_yticks(np.arange(mat.shape[0]))\n",
    "_=ax.set_xticks(np.arange(mat.shape[1]))\n",
    "ax.yaxis.tick_right()\n",
    "axc=fig.add_axes([0.87,0.065,0.1,0.01])\n",
    "norm = mpl.colors.Normalize(vmin=np.amin(mat), vmax=np.amax(mat))\n",
    "\n",
    "cb1 = mpl.colorbar.ColorbarBase(axc, cmap=cmap,\n",
    "                                norm=norm,\n",
    "                                orientation='horizontal')\n",
    "cb1.set_label('Some Units')"
   ]
  },
  {
   "cell_type": "code",
   "execution_count": 247,
   "id": "40f03c18-b99c-4595-bdfa-56dbb74378b5",
   "metadata": {},
   "outputs": [],
   "source": [
    "aa, b,c=zip(*sorted(zip(Z[\"icoord\"], Z[\"dcoord\"], Z[\"color_list\"])))"
   ]
  },
  {
   "cell_type": "code",
   "execution_count": 248,
   "id": "d17f4b0f-7939-4dbe-8847-2a4a78fb3fa5",
   "metadata": {},
   "outputs": [
    {
     "data": {
      "text/plain": [
       "([5.0, 5.0, 15.0, 15.0],\n",
       " [10.0, 10.0, 40.0, 40.0],\n",
       " [25.0, 25.0, 35.0, 35.0],\n",
       " [25.0, 25.0, 109.6875, 109.6875],\n",
       " [30.0, 30.0, 50.0, 50.0],\n",
       " [45.0, 45.0, 55.0, 55.0],\n",
       " [65.0, 65.0, 75.0, 75.0],\n",
       " [67.34375, 67.34375, 282.6953125, 282.6953125],\n",
       " [70.0, 70.0, 92.5, 92.5],\n",
       " [81.25, 81.25, 138.125, 138.125],\n",
       " [85.0, 85.0, 100.0, 100.0],\n",
       " [95.0, 95.0, 105.0, 105.0],\n",
       " [115.0, 115.0, 130.0, 130.0],\n",
       " [122.5, 122.5, 153.75, 153.75],\n",
       " [125.0, 125.0, 135.0, 135.0],\n",
       " [145.0, 145.0, 162.5, 162.5],\n",
       " [155.0, 155.0, 170.0, 170.0],\n",
       " [165.0, 165.0, 175.0, 175.0],\n",
       " [175.01953125, 175.01953125, 600.3125, 600.3125],\n",
       " [185.0, 185.0, 195.0, 195.0],\n",
       " [190.0, 190.0, 221.875, 221.875],\n",
       " [205.0, 205.0, 215.0, 215.0],\n",
       " [205.9375, 205.9375, 359.453125, 359.453125],\n",
       " [210.0, 210.0, 233.75, 233.75],\n",
       " [225.0, 225.0, 242.5, 242.5],\n",
       " [235.0, 235.0, 250.0, 250.0],\n",
       " [245.0, 245.0, 255.0, 255.0],\n",
       " [265.0, 265.0, 275.0, 275.0],\n",
       " [270.0, 270.0, 292.5, 292.5],\n",
       " [281.25, 281.25, 335.0, 335.0],\n",
       " [285.0, 285.0, 300.0, 300.0],\n",
       " [295.0, 295.0, 305.0, 305.0],\n",
       " [308.125, 308.125, 410.78125, 410.78125],\n",
       " [315.0, 315.0, 325.0, 325.0],\n",
       " [320.0, 320.0, 350.0, 350.0],\n",
       " [335.0, 335.0, 345.0, 345.0],\n",
       " [340.0, 340.0, 360.0, 360.0],\n",
       " [355.0, 355.0, 365.0, 365.0],\n",
       " [375.0, 375.0, 385.0, 385.0],\n",
       " [380.0, 380.0, 441.5625, 441.5625],\n",
       " [395.0, 395.0, 405.0, 405.0],\n",
       " [400.0, 400.0, 423.75, 423.75],\n",
       " [411.875, 411.875, 471.25, 471.25],\n",
       " [415.0, 415.0, 432.5, 432.5],\n",
       " [425.0, 425.0, 440.0, 440.0],\n",
       " [435.0, 435.0, 445.0, 445.0],\n",
       " [455.0, 455.0, 465.0, 465.0],\n",
       " [460.0, 460.0, 482.5, 482.5],\n",
       " [475.0, 475.0, 490.0, 490.0],\n",
       " [485.0, 485.0, 495.0, 495.0],\n",
       " [505.0, 505.0, 520.0, 520.0],\n",
       " [512.5, 512.5, 570.625, 570.625],\n",
       " [515.0, 515.0, 525.0, 525.0],\n",
       " [535.0, 535.0, 545.0, 545.0],\n",
       " [540.0, 540.0, 560.0, 560.0],\n",
       " [541.5625, 541.5625, 659.0625, 659.0625],\n",
       " [550.0, 550.0, 591.25, 591.25],\n",
       " [555.0, 555.0, 565.0, 565.0],\n",
       " [575.0, 575.0, 585.0, 585.0],\n",
       " [580.0, 580.0, 602.5, 602.5],\n",
       " [595.0, 595.0, 610.0, 610.0],\n",
       " [605.0, 605.0, 615.0, 615.0],\n",
       " [625.0, 625.0, 635.0, 635.0],\n",
       " [630.0, 630.0, 688.125, 688.125],\n",
       " [645.0, 645.0, 655.0, 655.0],\n",
       " [650.0, 650.0, 672.5, 672.5],\n",
       " [661.25, 661.25, 715.0, 715.0],\n",
       " [665.0, 665.0, 680.0, 680.0],\n",
       " [675.0, 675.0, 685.0, 685.0],\n",
       " [695.0, 695.0, 705.0, 705.0],\n",
       " [700.0, 700.0, 730.0, 730.0],\n",
       " [715.0, 715.0, 725.0, 725.0],\n",
       " [720.0, 720.0, 740.0, 740.0],\n",
       " [735.0, 735.0, 745.0, 745.0])"
      ]
     },
     "execution_count": 248,
     "metadata": {},
     "output_type": "execute_result"
    }
   ],
   "source": [
    "aa"
   ]
  },
  {
   "cell_type": "code",
   "execution_count": 249,
   "id": "0faf7546-47c8-402d-afb4-2c2805ce9f96",
   "metadata": {},
   "outputs": [],
   "source": [
    "df=pd.DataFrame(mat)"
   ]
  },
  {
   "cell_type": "code",
   "execution_count": 250,
   "id": "df20e639-d764-49e5-b1f5-0b3013ee62ba",
   "metadata": {},
   "outputs": [
    {
     "data": {
      "text/plain": [
       "(75, 25)"
      ]
     },
     "execution_count": 250,
     "metadata": {},
     "output_type": "execute_result"
    }
   ],
   "source": [
    "mat.shape"
   ]
  },
  {
   "cell_type": "code",
   "execution_count": 251,
   "id": "f7d9d2b5-e65e-4893-a548-a952c6269152",
   "metadata": {},
   "outputs": [
    {
     "data": {
      "text/plain": [
       "{'a': [0, 1, 2, 3]}"
      ]
     },
     "execution_count": 251,
     "metadata": {},
     "output_type": "execute_result"
    }
   ],
   "source": [
    "a={\"a\":[0,1,2,3]}\n",
    "a"
   ]
  },
  {
   "cell_type": "code",
   "execution_count": 252,
   "id": "d4c258d8-78b0-461f-b985-91d1a69d4a69",
   "metadata": {},
   "outputs": [
    {
     "data": {
      "text/plain": [
       "dict_values([[0, 1, 2, 3]])"
      ]
     },
     "execution_count": 252,
     "metadata": {},
     "output_type": "execute_result"
    }
   ],
   "source": [
    "a.values()"
   ]
  },
  {
   "cell_type": "code",
   "execution_count": 254,
   "id": "7cbf3d35-218f-415f-a0e3-8a8f57566388",
   "metadata": {},
   "outputs": [
    {
     "name": "stderr",
     "output_type": "stream",
     "text": [
      "/home/koh/.local/lib/python3.8/site-packages/matplotlib/collections.py:963: RuntimeWarning: invalid value encountered in sqrt\n",
      "  scale = np.sqrt(self._sizes) * dpi / 72.0 * self._factor\n"
     ]
    }
   ],
   "source": [
    "fig, ax=plt.subplots(figsize=[6,6,])\n",
    "# collection = mc.CircleCollection(10*sizes,\n",
    "#                                      #edgecolors=edge_colors, \n",
    "#                                      offsets=xy, \n",
    "#                                      transOffset=ax.transData, \n",
    "#                                      #facecolors=_colors,\n",
    "#                                      linewidths=2)\n",
    "collection = mc.RegularPolyCollection(\n",
    "    numsides=4, \n",
    "    rotation=np.pi/4,sizes=100*sizes,\n",
    "    facecolors=facecolors,\n",
    "    #edgecolors=(\"black\",),\n",
    "    #linewidths=(1,),\n",
    "\n",
    "    offset_transform=ax.transData,\n",
    "    )\n",
    "ax.add_collection(collection)\n",
    "ax.margins(0.1)"
   ]
  },
  {
   "cell_type": "code",
   "execution_count": 255,
   "id": "6212cbad-c2eb-4a78-985b-87990d7ede56",
   "metadata": {},
   "outputs": [],
   "source": [
    "a=None"
   ]
  },
  {
   "cell_type": "code",
   "execution_count": 256,
   "id": "eaa2b96d-e493-4cb6-bb6b-50aa42ec805d",
   "metadata": {},
   "outputs": [
    {
     "data": {
      "text/plain": [
       "1"
      ]
     },
     "execution_count": 256,
     "metadata": {},
     "output_type": "execute_result"
    }
   ],
   "source": [
    "int(type(a)==type(None) or 10>1)"
   ]
  },
  {
   "cell_type": "code",
   "execution_count": 257,
   "id": "a63a1a15-d3b4-4624-9a25-b5fc12640b0b",
   "metadata": {},
   "outputs": [],
   "source": [
    "a=np.array([0,33,4444522])"
   ]
  },
  {
   "cell_type": "code",
   "execution_count": 258,
   "id": "288ed881-efef-4462-b4d6-6287e307e066",
   "metadata": {},
   "outputs": [
    {
     "data": {
      "text/plain": [
       "array(['0', '33', '4444522'], dtype='<U21')"
      ]
     },
     "execution_count": 258,
     "metadata": {},
     "output_type": "execute_result"
    }
   ],
   "source": [
    "a.astype(str)"
   ]
  },
  {
   "cell_type": "code",
   "execution_count": 259,
   "id": "4bb95596-23b6-496b-98d2-2ca371f8bbd1",
   "metadata": {},
   "outputs": [
    {
     "name": "stdout",
     "output_type": "stream",
     "text": [
      "0.5 0.25 1.5 0.75\n"
     ]
    },
    {
     "data": {
      "text/plain": [
       "(-0.5, 0.5, -0.5, 3.25)"
      ]
     },
     "execution_count": 259,
     "metadata": {},
     "output_type": "execute_result"
    }
   ],
   "source": [
    "xstart=0.1\n",
    "ystart=0.1\n",
    "recnumx=4\n",
    "recnumy=10\n",
    "recnumy2=3\n",
    "w1=0.5\n",
    "h1=0.75\n",
    "r1=4\n",
    "w2=w1/r1\n",
    "r2=10\n",
    "h2=h1/r2\n",
    "s1=0.5\n",
    "s2=0.25\n",
    "s1x=s1*r1/recnumx\n",
    "s2x=s2*r1/recnumx\n",
    "s1y=s1*r2*recnumy2/recnumy\n",
    "s2y=s2*r2*recnumy2/recnumy\n",
    "print(s1x, s2x, s1y,s2y)\n",
    "fig=plt.figure(figsize=[4,8])\n",
    "ax=fig.add_axes([xstart,ystart,w1,h1])\n",
    "rect = [Rectangle((0 - 0.5, 0 - 0.5), recnumx, recnumy)]\n",
    "#         Rectangle((0 - s1/2, 0 - s1/2), s1, s1),\n",
    "#        Rectangle((1 - s2/2, 0 - s2/2), s2, s2),\n",
    "#         Rectangle((2 - s2/2, 0 - s2/2), s2, s2),\n",
    "#         Rectangle((3 - s2/2, 0 - s2/2), s2, s2),\n",
    "#        Rectangle((0 - s1/2, 1 - s1/2), s1, s1),\n",
    "#        Rectangle((1 - s2/2, 1 - s2/2), s2, s2),\n",
    "#        Rectangle((1 - s2/2, 2 - s2/2), s2, s2)]\n",
    "for _i in range(recnumy):\n",
    "    rect.extend([Rectangle((0 - s1/2, _i - s1/2), s1, s1),\n",
    "       Rectangle((1 - s2/2, _i - s2/2), s2, s2),\n",
    "        Rectangle((2 - s2/2, _i - s2/2), s2, s2),])\n",
    "\n",
    "pc = PatchCollection(rect, facecolor=\"b\", alpha=1,\n",
    "                     edgecolor=\"w\")\n",
    "ax.add_collection(pc)\n",
    "ax.margins(0)\n",
    "ax.axis(\"off\")\n",
    "ax=fig.add_axes([0.65,0.1,w2,h2])\n",
    "rect = [Rectangle((0 -0.5, 0 - 0.5),1,recnumy2)]\n",
    "for _i in range(recnumy2):\n",
    "    rect.extend([Rectangle((0 - s1x/2, _i - s1x/2), s1x, s1y)])\n",
    "pc = PatchCollection(rect, facecolor=\"b\", alpha=1,\n",
    "                     edgecolor=\"w\")\n",
    "ax.add_collection(pc)\n",
    "ax.margins(0)\n",
    "ax.axis(\"off\")"
   ]
  },
  {
   "cell_type": "code",
   "execution_count": 266,
   "id": "b2850063-6f8f-47ea-87bc-064490c05579",
   "metadata": {},
   "outputs": [],
   "source": [
    "r=0.5\n",
    "rs=[]\n",
    "for i in range(5):\n",
    "    rs.append([r*np.cos(np.pi/2+(2*i)*2*np.pi/5),r*np.sin(np.pi/2+(2*i)*2*np.pi/5)])\n"
   ]
  },
  {
   "cell_type": "code",
   "execution_count": 267,
   "id": "9c56dd85-3ab7-423a-9a62-5b1a6ced04ba",
   "metadata": {},
   "outputs": [
    {
     "data": {
      "text/plain": [
       "(-0.5, 0.5)"
      ]
     },
     "execution_count": 267,
     "metadata": {},
     "output_type": "execute_result"
    }
   ],
   "source": [
    "fig, ax=plt.subplots()\n",
    "rect = [Polygon(rs)]\n",
    "pc = PatchCollection(rect, alpha=1,\n",
    "                     edgecolor=None)\n",
    "ax.add_collection(pc)\n",
    "plt.ylim(-0.5,0.5)\n",
    "plt.xlim(-0.5,0.5)"
   ]
  },
  {
   "cell_type": "code",
   "execution_count": null,
   "id": "1d18877f-a476-4b46-bdc1-4f64ac19abac",
   "metadata": {},
   "outputs": [],
   "source": []
  }
 ],
 "metadata": {
  "kernelspec": {
   "display_name": "Python 3",
   "language": "python",
   "name": "python3"
  },
  "language_info": {
   "codemirror_mode": {
    "name": "ipython",
    "version": 3
   },
   "file_extension": ".py",
   "mimetype": "text/x-python",
   "name": "python",
   "nbconvert_exporter": "python",
   "pygments_lexer": "ipython3",
   "version": "3.10.9"
  }
 },
 "nbformat": 4,
 "nbformat_minor": 5
}
