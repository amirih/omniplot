{
 "cells": [
  {
   "cell_type": "code",
   "execution_count": 1,
   "id": "a7faa025-6f29-409c-b7f6-b2bef0865ef5",
   "metadata": {},
   "outputs": [],
   "source": [
    "import pandas as pd\n",
    "import matplotlib.pyplot as plt\n",
    "import seaborn\n",
    "import matplotlib.collections as mc\n",
    "from matplotlib import transforms\n",
    "import numpy as np\n",
    "from sklearn.cluster import AgglomerativeClustering\n",
    "import scipy.cluster.hierarchy as sch\n",
    "import fastcluster as fcl\n",
    "from scipy.spatial.distance import pdist, squareform\n",
    "from matplotlib.collections import PatchCollection\n",
    "from matplotlib.patches import Rectangle, Circle\n",
    "import matplotlib as mpl\n",
    "from decimal import Decimal"
   ]
  },
  {
   "cell_type": "code",
   "execution_count": 2,
   "id": "31afbb62-576f-42fa-a268-357e5b5efd27",
   "metadata": {},
   "outputs": [],
   "source": [
    "%matplotlib tk"
   ]
  },
  {
   "cell_type": "code",
   "execution_count": 3,
   "id": "a480dd4a-6d96-40ad-9766-72f7ab9af679",
   "metadata": {},
   "outputs": [],
   "source": [
    "a=\"abcd\""
   ]
  },
  {
   "cell_type": "code",
   "execution_count": 12,
   "id": "cbb6472a-a4d8-4555-9fe6-fb4ae995ed3c",
   "metadata": {},
   "outputs": [
    {
     "data": {
      "text/plain": [
       "'abc'"
      ]
     },
     "execution_count": 12,
     "metadata": {},
     "output_type": "execute_result"
    }
   ],
   "source": [
    "a[:-1]"
   ]
  },
  {
   "cell_type": "code",
   "execution_count": 13,
   "id": "d61e59ce-ba9d-4499-acaa-a91c4ecc67a5",
   "metadata": {},
   "outputs": [],
   "source": [
    "df=pd.DataFrame({\"a\": [1,2,3]})"
   ]
  },
  {
   "cell_type": "code",
   "execution_count": 14,
   "id": "172eb778-b075-49fa-b677-f30cb06b6f57",
   "metadata": {},
   "outputs": [],
   "source": [
    "try:\n",
    "    b=df.name\n",
    "except:\n",
    "    b=\"\""
   ]
  },
  {
   "cell_type": "code",
   "execution_count": 15,
   "id": "b16157b9-b49f-4bb4-aad1-658f938204cf",
   "metadata": {},
   "outputs": [
    {
     "data": {
      "text/plain": [
       "''"
      ]
     },
     "execution_count": 15,
     "metadata": {},
     "output_type": "execute_result"
    }
   ],
   "source": [
    "b"
   ]
  },
  {
   "cell_type": "code",
   "execution_count": null,
   "id": "f5945f00-9428-452c-bcad-1ecaed7f787b",
   "metadata": {},
   "outputs": [],
   "source": []
  },
  {
   "cell_type": "code",
   "execution_count": null,
   "id": "d3dd51f0-0203-46e3-96c3-9239b9b2c3c5",
   "metadata": {},
   "outputs": [],
   "source": []
  },
  {
   "cell_type": "code",
   "execution_count": null,
   "id": "87ccf42f-ecb6-48ec-a0df-45b42ce8a140",
   "metadata": {},
   "outputs": [],
   "source": []
  },
  {
   "cell_type": "code",
   "execution_count": 16,
   "id": "fb9481d7-1b94-40f3-acde-43a47a9c7abd",
   "metadata": {},
   "outputs": [],
   "source": [
    "#sizes=np.array([mat[i,j] for i in range(mat.shape[0]) for j in range(mat.shape[1])])\n"
   ]
  },
  {
   "cell_type": "code",
   "execution_count": 17,
   "id": "f34ec30e-e271-419f-a180-22d79d1f492b",
   "metadata": {},
   "outputs": [],
   "source": [
    "mat=np.concatenate([0.5*np.random.uniform(0,1,size=[50, 25]),np.random.uniform(0,1,size=[25, 25])])"
   ]
  },
  {
   "cell_type": "code",
   "execution_count": 18,
   "id": "192c4b1b-9de2-4ab2-9105-87cfeae29033",
   "metadata": {},
   "outputs": [],
   "source": [
    "from scipy.stats import zscore"
   ]
  },
  {
   "cell_type": "code",
   "execution_count": 19,
   "id": "7dfd60e0-cafe-44d1-8262-34e06906103c",
   "metadata": {},
   "outputs": [],
   "source": [
    "mat=zscore(mat, axis=0)"
   ]
  },
  {
   "cell_type": "code",
   "execution_count": 20,
   "id": "53d9583a-fce9-46b9-ad8d-773c2276bc20",
   "metadata": {},
   "outputs": [],
   "source": [
    "labels=[\"sample\"+str(i) for i in range(75)]"
   ]
  },
  {
   "cell_type": "code",
   "execution_count": 21,
   "id": "998c560b-2ce3-4a3d-bc4c-5c7238d9c037",
   "metadata": {},
   "outputs": [
    {
     "name": "stderr",
     "output_type": "stream",
     "text": [
      "<ipython-input-21-e1ce0e46d333>:15: ClusterWarning: scipy.cluster: The symmetric non-negative hollow observation matrix looks suspiciously like an uncondensed distance matrix\n",
      "  Y = sch.linkage(D, method=\"ward\")\n",
      "<ipython-input-21-e1ce0e46d333>:27: ClusterWarning: scipy.cluster: The symmetric non-negative hollow observation matrix looks suspiciously like an uncondensed distance matrix\n",
      "  Yt = sch.linkage(Dt, method=\"ward\")\n"
     ]
    }
   ],
   "source": [
    "xori=0.1\n",
    "yori=0.1\n",
    "ltreew=0.15\n",
    "ltreeh=0.75\n",
    "ttreew=0.6\n",
    "ttreeh=0.1\n",
    "hmapw=ttreew\n",
    "hmaph=ltreeh\n",
    "_tcmap=plt.get_cmap(\"tab20c\")\n",
    "tcmap = _tcmap(np.linspace(0, 1, 5))\n",
    "sch.set_link_color_palette([mpl.colors.rgb2hex(rgb[:3]) for rgb in tcmap])\n",
    "fig=plt.figure(figsize=[8*mat.shape[1]/mat.shape[0],8,])\n",
    "ax0=fig.add_axes([xori,yori,ltreew,ltreeh])\n",
    "D=squareform(pdist(mat,metric=\"euclidean\"))\n",
    "Y = sch.linkage(D, method=\"ward\")\n",
    "\n",
    "Z = sch.dendrogram(Y,ax=ax0,orientation=\"left\",labels=labels,\n",
    "                   above_threshold_color='black')\n",
    "ax0.axis('off')\n",
    "\n",
    "_tcmap=plt.get_cmap(\"tab20b\")\n",
    "tcmap = _tcmap(np.linspace(0, 1, 5))\n",
    "sch.set_link_color_palette([mpl.colors.rgb2hex(rgb[:3]) for rgb in tcmap])\n",
    "ax1=fig.add_axes([xori+ltreew,yori+ltreeh,ttreew,ttreeh])\n",
    "\n",
    "Dt=squareform(pdist(mat.T,metric=\"euclidean\"))\n",
    "Yt = sch.linkage(Dt, method=\"ward\")\n",
    "\n",
    "Zt = sch.dendrogram(Yt,ax=ax1,orientation=\"top\",above_threshold_color='black')\n",
    "ax1.axis('off')\n",
    "\n",
    "mat=mat[Z['leaves']]\n",
    "mat=mat[:,Zt['leaves']]\n",
    "row_col=[ [j,i] for i in range(mat.shape[0]) for j in range(mat.shape[1])]\n",
    "sizes=mat.flatten()\n",
    "cmap=plt.get_cmap(\"hot\")\n",
    "# facecolors=np.array([cmap(i) for i in mat.flatten()])\n",
    "_mat=mat.flatten()\n",
    "_mat=(_mat-np.min(_mat))/(np.max(_mat)-np.min(_mat))\n",
    "facecolors=cmap(_mat)\n",
    "rect = [Rectangle((x - 0.5, y - 0.5), 1, 1)\n",
    "                  for x, y in row_col]\n",
    "# circle=[Circle((x, y), 0.5) for x, y in row_col]\n",
    "    # Create patch collection with specified colour/alpha\n",
    "pc = PatchCollection(rect, facecolor=facecolors, alpha=1,\n",
    "                     edgecolor=None)\n",
    "ax=fig.add_axes([xori+ltreew,yori,hmapw,hmaph])\n",
    "ax.add_collection(pc)\n",
    "ax.margins(0.00)\n",
    "_=ax.set_yticks(np.arange(mat.shape[0]))\n",
    "_=ax.set_xticks(np.arange(mat.shape[1]))\n",
    "ax.yaxis.tick_right()\n",
    "axc=fig.add_axes([0.87,0.065,0.1,0.01])\n",
    "norm = mpl.colors.Normalize(vmin=np.amin(mat), vmax=np.amax(mat))\n",
    "\n",
    "cb1 = mpl.colorbar.ColorbarBase(axc, cmap=cmap,\n",
    "                                norm=norm,\n",
    "                                orientation='horizontal')\n",
    "cb1.set_label('Some Units')"
   ]
  },
  {
   "cell_type": "code",
   "execution_count": 25,
   "id": "40f03c18-b99c-4595-bdfa-56dbb74378b5",
   "metadata": {},
   "outputs": [],
   "source": [
    "aa, b,c=zip(*sorted(zip(Z[\"icoord\"], Z[\"dcoord\"], Z[\"color_list\"])))"
   ]
  },
  {
   "cell_type": "code",
   "execution_count": 27,
   "id": "d17f4b0f-7939-4dbe-8847-2a4a78fb3fa5",
   "metadata": {},
   "outputs": [
    {
     "data": {
      "text/plain": [
       "([5.0, 5.0, 15.0, 15.0],\n",
       " [10.0, 10.0, 30.0, 30.0],\n",
       " [20.0, 20.0, 102.8125, 102.8125],\n",
       " [25.0, 25.0, 35.0, 35.0],\n",
       " [45.0, 45.0, 60.0, 60.0],\n",
       " [52.5, 52.5, 83.75, 83.75],\n",
       " [55.0, 55.0, 65.0, 65.0],\n",
       " [61.40625, 61.40625, 210.0, 210.0],\n",
       " [68.125, 68.125, 137.5, 137.5],\n",
       " [75.0, 75.0, 92.5, 92.5],\n",
       " [85.0, 85.0, 100.0, 100.0],\n",
       " [95.0, 95.0, 105.0, 105.0],\n",
       " [115.0, 115.0, 130.0, 130.0],\n",
       " [122.5, 122.5, 152.5, 152.5],\n",
       " [125.0, 125.0, 135.0, 135.0],\n",
       " [135.703125, 135.703125, 347.8125, 347.8125],\n",
       " [145.0, 145.0, 160.0, 160.0],\n",
       " [155.0, 155.0, 165.0, 165.0],\n",
       " [175.0, 175.0, 185.0, 185.0],\n",
       " [180.0, 180.0, 200.0, 200.0],\n",
       " [190.0, 190.0, 230.0, 230.0],\n",
       " [195.0, 195.0, 205.0, 205.0],\n",
       " [215.0, 215.0, 225.0, 225.0],\n",
       " [220.0, 220.0, 240.0, 240.0],\n",
       " [235.0, 235.0, 245.0, 245.0],\n",
       " [241.7578125, 241.7578125, 614.375, 614.375],\n",
       " [255.0, 255.0, 265.0, 265.0],\n",
       " [260.0, 260.0, 280.0, 280.0],\n",
       " [270.0, 270.0, 316.25, 316.25],\n",
       " [275.0, 275.0, 285.0, 285.0],\n",
       " [293.125, 293.125, 402.5, 402.5],\n",
       " [295.0, 295.0, 310.0, 310.0],\n",
       " [302.5, 302.5, 330.0, 330.0],\n",
       " [305.0, 305.0, 315.0, 315.0],\n",
       " [325.0, 325.0, 335.0, 335.0],\n",
       " [345.0, 345.0, 375.0, 375.0],\n",
       " [355.0, 355.0, 365.0, 365.0],\n",
       " [360.0, 360.0, 390.0, 390.0],\n",
       " [360.0, 360.0, 445.0, 445.0],\n",
       " [375.0, 375.0, 385.0, 385.0],\n",
       " [380.0, 380.0, 400.0, 400.0],\n",
       " [395.0, 395.0, 405.0, 405.0],\n",
       " [415.0, 415.0, 430.0, 430.0],\n",
       " [422.5, 422.5, 467.5, 467.5],\n",
       " [425.0, 425.0, 435.0, 435.0],\n",
       " [445.0, 445.0, 460.0, 460.0],\n",
       " [452.5, 452.5, 482.5, 482.5],\n",
       " [455.0, 455.0, 465.0, 465.0],\n",
       " [475.0, 475.0, 490.0, 490.0],\n",
       " [485.0, 485.0, 495.0, 495.0],\n",
       " [505.0, 505.0, 515.0, 515.0],\n",
       " [510.0, 510.0, 532.5, 532.5],\n",
       " [521.25, 521.25, 577.5, 577.5],\n",
       " [525.0, 525.0, 540.0, 540.0],\n",
       " [535.0, 535.0, 545.0, 545.0],\n",
       " [549.375, 549.375, 679.375, 679.375],\n",
       " [555.0, 555.0, 565.0, 565.0],\n",
       " [560.0, 560.0, 595.0, 595.0],\n",
       " [575.0, 575.0, 585.0, 585.0],\n",
       " [580.0, 580.0, 610.0, 610.0],\n",
       " [595.0, 595.0, 605.0, 605.0],\n",
       " [600.0, 600.0, 620.0, 620.0],\n",
       " [615.0, 615.0, 625.0, 625.0],\n",
       " [635.0, 635.0, 660.0, 660.0],\n",
       " [645.0, 645.0, 655.0, 655.0],\n",
       " [647.5, 647.5, 711.25, 711.25],\n",
       " [650.0, 650.0, 670.0, 670.0],\n",
       " [665.0, 665.0, 675.0, 675.0],\n",
       " [685.0, 685.0, 700.0, 700.0],\n",
       " [692.5, 692.5, 730.0, 730.0],\n",
       " [695.0, 695.0, 705.0, 705.0],\n",
       " [715.0, 715.0, 725.0, 725.0],\n",
       " [720.0, 720.0, 740.0, 740.0],\n",
       " [735.0, 735.0, 745.0, 745.0])"
      ]
     },
     "execution_count": 27,
     "metadata": {},
     "output_type": "execute_result"
    }
   ],
   "source": [
    "aa"
   ]
  },
  {
   "cell_type": "code",
   "execution_count": 31,
   "id": "0faf7546-47c8-402d-afb4-2c2805ce9f96",
   "metadata": {},
   "outputs": [],
   "source": [
    "df=pd.DataFrame(mat)"
   ]
  },
  {
   "cell_type": "code",
   "execution_count": 32,
   "id": "df20e639-d764-49e5-b1f5-0b3013ee62ba",
   "metadata": {},
   "outputs": [
    {
     "data": {
      "text/plain": [
       "(75, 25)"
      ]
     },
     "execution_count": 32,
     "metadata": {},
     "output_type": "execute_result"
    }
   ],
   "source": [
    "mat.shape"
   ]
  },
  {
   "cell_type": "code",
   "execution_count": 40,
   "id": "f7d9d2b5-e65e-4893-a548-a952c6269152",
   "metadata": {},
   "outputs": [
    {
     "data": {
      "text/plain": [
       "{'a': [0, 1, 2, 3]}"
      ]
     },
     "execution_count": 40,
     "metadata": {},
     "output_type": "execute_result"
    }
   ],
   "source": [
    "a={\"a\":[0,1,2,3]}\n",
    "a"
   ]
  },
  {
   "cell_type": "code",
   "execution_count": 47,
   "id": "d4c258d8-78b0-461f-b985-91d1a69d4a69",
   "metadata": {},
   "outputs": [
    {
     "data": {
      "text/plain": [
       "dict_values([[0, 1, 2, 3]])"
      ]
     },
     "execution_count": 47,
     "metadata": {},
     "output_type": "execute_result"
    }
   ],
   "source": [
    "a.values()"
   ]
  },
  {
   "cell_type": "code",
   "execution_count": 56,
   "id": "7cbf3d35-218f-415f-a0e3-8a8f57566388",
   "metadata": {},
   "outputs": [],
   "source": [
    "fig, ax=plt.subplots(figsize=[6,6,])\n",
    "# collection = mc.CircleCollection(10*sizes,\n",
    "#                                      #edgecolors=edge_colors, \n",
    "#                                      offsets=xy, \n",
    "#                                      transOffset=ax.transData, \n",
    "#                                      #facecolors=_colors,\n",
    "#                                      linewidths=2)\n",
    "collection = mc.RegularPolyCollection(\n",
    "    numsides=4, \n",
    "    rotation=np.pi/4,sizes=100*sizes,\n",
    "    facecolors=facecolors,\n",
    "    #edgecolors=(\"black\",),\n",
    "    #linewidths=(1,),\n",
    "    offsets=xy,\n",
    "    offset_transform=ax.transData,\n",
    "    )\n",
    "ax.add_collection(collection)\n",
    "ax.margins(0.1)"
   ]
  },
  {
   "cell_type": "code",
   "execution_count": 25,
   "id": "6212cbad-c2eb-4a78-985b-87990d7ede56",
   "metadata": {},
   "outputs": [],
   "source": [
    "a=None"
   ]
  },
  {
   "cell_type": "code",
   "execution_count": 27,
   "id": "eaa2b96d-e493-4cb6-bb6b-50aa42ec805d",
   "metadata": {},
   "outputs": [
    {
     "data": {
      "text/plain": [
       "1"
      ]
     },
     "execution_count": 27,
     "metadata": {},
     "output_type": "execute_result"
    }
   ],
   "source": [
    "int(type(a)==type(None) or 10>1)"
   ]
  },
  {
   "cell_type": "code",
   "execution_count": 262,
   "id": "a63a1a15-d3b4-4624-9a25-b5fc12640b0b",
   "metadata": {},
   "outputs": [],
   "source": [
    "a=np.array([0,33,4444522])"
   ]
  },
  {
   "cell_type": "code",
   "execution_count": 263,
   "id": "288ed881-efef-4462-b4d6-6287e307e066",
   "metadata": {},
   "outputs": [
    {
     "data": {
      "text/plain": [
       "array(['0', '33', '4444522'], dtype='<U21')"
      ]
     },
     "execution_count": 263,
     "metadata": {},
     "output_type": "execute_result"
    }
   ],
   "source": [
    "a.astype(str)"
   ]
  },
  {
   "cell_type": "code",
   "execution_count": 23,
   "id": "4bb95596-23b6-496b-98d2-2ca371f8bbd1",
   "metadata": {},
   "outputs": [
    {
     "name": "stdout",
     "output_type": "stream",
     "text": [
      "0.5 0.25 1.5 0.75\n"
     ]
    },
    {
     "data": {
      "text/plain": [
       "(-0.5, 0.5, -0.5, 3.25)"
      ]
     },
     "execution_count": 23,
     "metadata": {},
     "output_type": "execute_result"
    }
   ],
   "source": [
    "xstart=0.1\n",
    "ystart=0.1\n",
    "recnumx=4\n",
    "recnumy=10\n",
    "recnumy2=3\n",
    "w1=0.5\n",
    "h1=0.75\n",
    "r1=4\n",
    "w2=w1/r1\n",
    "r2=10\n",
    "h2=h1/r2\n",
    "s1=0.5\n",
    "s2=0.25\n",
    "s1x=s1*r1/recnumx\n",
    "s2x=s2*r1/recnumx\n",
    "s1y=s1*r2*recnumy2/recnumy\n",
    "s2y=s2*r2*recnumy2/recnumy\n",
    "print(s1x, s2x, s1y,s2y)\n",
    "fig=plt.figure(figsize=[4,8])\n",
    "ax=fig.add_axes([xstart,ystart,w1,h1])\n",
    "rect = [Rectangle((0 - 0.5, 0 - 0.5), recnumx, recnumy)]\n",
    "#         Rectangle((0 - s1/2, 0 - s1/2), s1, s1),\n",
    "#        Rectangle((1 - s2/2, 0 - s2/2), s2, s2),\n",
    "#         Rectangle((2 - s2/2, 0 - s2/2), s2, s2),\n",
    "#         Rectangle((3 - s2/2, 0 - s2/2), s2, s2),\n",
    "#        Rectangle((0 - s1/2, 1 - s1/2), s1, s1),\n",
    "#        Rectangle((1 - s2/2, 1 - s2/2), s2, s2),\n",
    "#        Rectangle((1 - s2/2, 2 - s2/2), s2, s2)]\n",
    "for _i in range(recnumy):\n",
    "    rect.extend([Rectangle((0 - s1/2, _i - s1/2), s1, s1),\n",
    "       Rectangle((1 - s2/2, _i - s2/2), s2, s2),\n",
    "        Rectangle((2 - s2/2, _i - s2/2), s2, s2),])\n",
    "\n",
    "pc = PatchCollection(rect, facecolor=\"b\", alpha=1,\n",
    "                     edgecolor=\"w\")\n",
    "ax.add_collection(pc)\n",
    "ax.margins(0)\n",
    "ax.axis(\"off\")\n",
    "ax=fig.add_axes([0.65,0.1,w2,h2])\n",
    "rect = [Rectangle((0 -0.5, 0 - 0.5),1,recnumy2)]\n",
    "for _i in range(recnumy2):\n",
    "    rect.extend([Rectangle((0 - s1x/2, _i - s1x/2), s1x, s1y)])\n",
    "pc = PatchCollection(rect, facecolor=\"b\", alpha=1,\n",
    "                     edgecolor=\"w\")\n",
    "ax.add_collection(pc)\n",
    "ax.margins(0)\n",
    "ax.axis(\"off\")"
   ]
  },
  {
   "cell_type": "code",
   "execution_count": null,
   "id": "0b4ffa9b-e817-4765-9568-06bf75108d77",
   "metadata": {},
   "outputs": [],
   "source": []
  }
 ],
 "metadata": {
  "kernelspec": {
   "display_name": "Python 3",
   "language": "python",
   "name": "python3"
  },
  "language_info": {
   "codemirror_mode": {
    "name": "ipython",
    "version": 3
   },
   "file_extension": ".py",
   "mimetype": "text/x-python",
   "name": "python",
   "nbconvert_exporter": "python",
   "pygments_lexer": "ipython3",
   "version": "3.8.10"
  }
 },
 "nbformat": 4,
 "nbformat_minor": 5
}
