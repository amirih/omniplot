{
 "cells": [
  {
   "cell_type": "code",
   "execution_count": 275,
   "id": "a7faa025-6f29-409c-b7f6-b2bef0865ef5",
   "metadata": {},
   "outputs": [],
   "source": [
    "import pandas as pd\n",
    "import matplotlib.pyplot as plt\n",
    "import seaborn\n",
    "import matplotlib.collections as mc\n",
    "from matplotlib import transforms\n",
    "import numpy as np\n",
    "from sklearn.cluster import AgglomerativeClustering\n",
    "import scipy.cluster.hierarchy as sch\n",
    "import fastcluster as fcl\n",
    "from scipy.spatial.distance import pdist, squareform\n",
    "from matplotlib.collections import PatchCollection\n",
    "from matplotlib.patches import Rectangle, Circle\n",
    "import matplotlib as mpl\n",
    "from decimal import Decimal"
   ]
  },
  {
   "cell_type": "code",
   "execution_count": 242,
   "id": "31afbb62-576f-42fa-a268-357e5b5efd27",
   "metadata": {},
   "outputs": [],
   "source": [
    "%matplotlib tk"
   ]
  },
  {
   "cell_type": "code",
   "execution_count": null,
   "id": "178b5712-f003-49ca-867a-cb342a7eb879",
   "metadata": {},
   "outputs": [],
   "source": []
  },
  {
   "cell_type": "code",
   "execution_count": 243,
   "id": "d61e59ce-ba9d-4499-acaa-a91c4ecc67a5",
   "metadata": {},
   "outputs": [],
   "source": [
    "clustering = AgglomerativeClustering().fit(mat)"
   ]
  },
  {
   "cell_type": "code",
   "execution_count": 244,
   "id": "172eb778-b075-49fa-b677-f30cb06b6f57",
   "metadata": {},
   "outputs": [
    {
     "data": {
      "text/plain": [
       "array([1, 1, 1, 1, 1, 1, 1, 1, 1, 1, 1, 1, 1, 1, 1, 1, 0, 0, 0, 0, 0, 0,\n",
       "       0, 0, 0, 0, 0, 0, 0, 0, 0, 0, 0, 0, 0, 0, 0, 0, 0, 0, 0, 0, 0, 0,\n",
       "       0, 0, 0, 0, 0, 0])"
      ]
     },
     "execution_count": 244,
     "metadata": {},
     "output_type": "execute_result"
    }
   ],
   "source": [
    "clustering.labels_"
   ]
  },
  {
   "cell_type": "code",
   "execution_count": null,
   "id": "b16157b9-b49f-4bb4-aad1-658f938204cf",
   "metadata": {},
   "outputs": [],
   "source": []
  },
  {
   "cell_type": "code",
   "execution_count": 245,
   "id": "f5945f00-9428-452c-bcad-1ecaed7f787b",
   "metadata": {},
   "outputs": [
    {
     "data": {
      "text/plain": [
       "dict_keys(['icoord', 'dcoord', 'ivl', 'leaves', 'color_list', 'leaves_color_list'])"
      ]
     },
     "execution_count": 245,
     "metadata": {},
     "output_type": "execute_result"
    }
   ],
   "source": [
    "Z.keys()"
   ]
  },
  {
   "cell_type": "code",
   "execution_count": null,
   "id": "d3dd51f0-0203-46e3-96c3-9239b9b2c3c5",
   "metadata": {},
   "outputs": [],
   "source": []
  },
  {
   "cell_type": "code",
   "execution_count": null,
   "id": "87ccf42f-ecb6-48ec-a0df-45b42ce8a140",
   "metadata": {},
   "outputs": [],
   "source": []
  },
  {
   "cell_type": "code",
   "execution_count": 246,
   "id": "fb9481d7-1b94-40f3-acde-43a47a9c7abd",
   "metadata": {},
   "outputs": [],
   "source": [
    "#sizes=np.array([mat[i,j] for i in range(mat.shape[0]) for j in range(mat.shape[1])])\n"
   ]
  },
  {
   "cell_type": "code",
   "execution_count": 268,
   "id": "f34ec30e-e271-419f-a180-22d79d1f492b",
   "metadata": {},
   "outputs": [],
   "source": [
    "mat=np.concatenate([0.5*np.random.uniform(0,1,size=[50, 25]),np.random.uniform(0,1,size=[25, 25])])"
   ]
  },
  {
   "cell_type": "code",
   "execution_count": 269,
   "id": "192c4b1b-9de2-4ab2-9105-87cfeae29033",
   "metadata": {},
   "outputs": [],
   "source": [
    "from scipy.stats import zscore"
   ]
  },
  {
   "cell_type": "code",
   "execution_count": 270,
   "id": "64dd3404-7bb6-4b64-a0d0-85b37fd83e93",
   "metadata": {},
   "outputs": [],
   "source": [
    "mat=zscore(mat, axis=0)"
   ]
  },
  {
   "cell_type": "code",
   "execution_count": 277,
   "id": "998c560b-2ce3-4a3d-bc4c-5c7238d9c037",
   "metadata": {},
   "outputs": [
    {
     "name": "stderr",
     "output_type": "stream",
     "text": [
      "<ipython-input-277-55bcd77d3411>:15: ClusterWarning: scipy.cluster: The symmetric non-negative hollow observation matrix looks suspiciously like an uncondensed distance matrix\n",
      "  Y = sch.linkage(D, method=\"ward\")\n",
      "<ipython-input-277-55bcd77d3411>:26: ClusterWarning: scipy.cluster: The symmetric non-negative hollow observation matrix looks suspiciously like an uncondensed distance matrix\n",
      "  Yt = sch.linkage(Dt, method=\"ward\")\n"
     ]
    }
   ],
   "source": [
    "xori=0.1\n",
    "yori=0.1\n",
    "ltreew=0.15\n",
    "ltreeh=0.75\n",
    "ttreew=0.6\n",
    "ttreeh=0.1\n",
    "hmapw=ttreew\n",
    "hmaph=ltreeh\n",
    "_tcmap=plt.get_cmap(\"tab20c\")\n",
    "tcmap = _tcmap(np.linspace(0, 1, 5))\n",
    "sch.set_link_color_palette([mpl.colors.rgb2hex(rgb[:3]) for rgb in tcmap])\n",
    "fig=plt.figure(figsize=[8*mat.shape[1]/mat.shape[0],8,])\n",
    "ax0=fig.add_axes([xori,yori,ltreew,ltreeh])\n",
    "D=squareform(pdist(mat,metric=\"euclidean\"))\n",
    "Y = sch.linkage(D, method=\"ward\")\n",
    "\n",
    "Z = sch.dendrogram(Y,ax=ax0,orientation=\"left\",above_threshold_color='black')\n",
    "ax0.axis('off')\n",
    "\n",
    "_tcmap=plt.get_cmap(\"tab20b\")\n",
    "tcmap = _tcmap(np.linspace(0, 1, 5))\n",
    "sch.set_link_color_palette([mpl.colors.rgb2hex(rgb[:3]) for rgb in tcmap])\n",
    "ax1=fig.add_axes([xori+ltreew,yori+ltreeh,ttreew,ttreeh])\n",
    "\n",
    "Dt=squareform(pdist(mat.T,metric=\"euclidean\"))\n",
    "Yt = sch.linkage(Dt, method=\"ward\")\n",
    "\n",
    "Zt = sch.dendrogram(Yt,ax=ax1,orientation=\"top\",above_threshold_color='black')\n",
    "ax1.axis('off')\n",
    "\n",
    "mat=mat[Z['leaves']]\n",
    "mat=mat[:,Zt['leaves']]\n",
    "row_col=[ [j,i] for i in range(mat.shape[0]) for j in range(mat.shape[1])]\n",
    "sizes=mat.flatten()\n",
    "cmap=plt.get_cmap(\"hot\")\n",
    "# facecolors=np.array([cmap(i) for i in mat.flatten()])\n",
    "_mat=mat.flatten()\n",
    "_mat=(_mat-np.min(_mat))/(np.max(_mat)-np.min(_mat))\n",
    "facecolors=cmap(_mat)\n",
    "rect = [Rectangle((x - 0.5, y - 0.5), 1, 1)\n",
    "                  for x, y in row_col]\n",
    "# circle=[Circle((x, y), 0.5) for x, y in row_col]\n",
    "    # Create patch collection with specified colour/alpha\n",
    "pc = PatchCollection(rect, facecolor=facecolors, alpha=1,\n",
    "                     edgecolor=None)\n",
    "ax=fig.add_axes([xori+ltreew,yori,hmapw,hmaph])\n",
    "ax.add_collection(pc)\n",
    "ax.margins(0.00)\n",
    "_=ax.set_yticks(np.arange(mat.shape[0]))\n",
    "_=ax.set_xticks(np.arange(mat.shape[1]))\n",
    "ax.yaxis.tick_right()\n",
    "axc=fig.add_axes([0.87,0.065,0.1,0.01])\n",
    "norm = mpl.colors.Normalize(vmin=np.amin(mat), vmax=np.amax(mat))\n",
    "\n",
    "cb1 = mpl.colorbar.ColorbarBase(axc, cmap=cmap,\n",
    "                                norm=norm,\n",
    "                                orientation='horizontal')\n",
    "cb1.set_label('Some Units')"
   ]
  },
  {
   "cell_type": "code",
   "execution_count": 218,
   "id": "17f1f51b-d5e0-43b4-be86-13b8b884b327",
   "metadata": {},
   "outputs": [],
   "source": [
    "df=pd.DataFrame(mat)"
   ]
  },
  {
   "cell_type": "code",
   "execution_count": 296,
   "id": "8912db08-d9fa-4f46-9b1e-521544fed178",
   "metadata": {},
   "outputs": [
    {
     "data": {
      "text/plain": [
       "[[0.0, 6.239397845490048, 6.239397845490048, 0.0],\n",
       " [0.0, 7.789059873787889, 7.789059873787889, 6.239397845490048],\n",
       " [0.0, 6.811350280383528, 6.811350280383528, 0.0],\n",
       " [0.0, 7.375929628139846, 7.375929628139846, 6.811350280383528],\n",
       " [0.0, 9.321405718198033, 9.321405718198033, 7.375929628139846],\n",
       " [7.789059873787889, 10.20173343034416, 10.20173343034416, 9.321405718198033],\n",
       " [0.0, 7.091321477295521, 7.091321477295521, 0.0],\n",
       " [0.0, 6.569112687817989, 6.569112687817989, 0.0],\n",
       " [0.0, 8.395805900842321, 8.395805900842321, 6.569112687817989],\n",
       " [7.091321477295521, 9.18837952297882, 9.18837952297882, 8.395805900842321],\n",
       " [0.0, 7.271913790501675, 7.271913790501675, 0.0],\n",
       " [0.0, 8.117320215542478, 8.117320215542478, 7.271913790501675],\n",
       " [0.0, 5.945280390825049, 5.945280390825049, 0.0],\n",
       " [0.0, 6.643843282045021, 6.643843282045021, 5.945280390825049],\n",
       " [0.0, 7.086145166736696, 7.086145166736696, 6.643843282045021],\n",
       " [0.0, 5.589582732314525, 5.589582732314525, 0.0],\n",
       " [0.0, 6.431921437240704, 6.431921437240704, 0.0],\n",
       " [0.0, 6.945798205403553, 6.945798205403553, 6.431921437240704],\n",
       " [5.589582732314525, 9.256073461443387, 9.256073461443387, 6.945798205403553],\n",
       " [7.086145166736696,\n",
       "  11.339205961431032,\n",
       "  11.339205961431032,\n",
       "  9.256073461443387],\n",
       " [8.117320215542478,\n",
       "  12.023951873791583,\n",
       "  12.023951873791583,\n",
       "  11.339205961431032],\n",
       " [9.18837952297882,\n",
       "  13.827401399994113,\n",
       "  13.827401399994113,\n",
       "  12.023951873791583],\n",
       " [10.20173343034416,\n",
       "  15.248591167185365,\n",
       "  15.248591167185365,\n",
       "  13.827401399994113],\n",
       " [0.0, 6.32110360032538, 6.32110360032538, 0.0],\n",
       " [0.0, 5.421057009078322, 5.421057009078322, 0.0],\n",
       " [0.0, 6.94881098152362, 6.94881098152362, 5.421057009078322],\n",
       " [6.32110360032538, 8.212602376411454, 8.212602376411454, 6.94881098152362],\n",
       " [0.0, 5.482211595525262, 5.482211595525262, 0.0],\n",
       " [0.0, 5.976351398979002, 5.976351398979002, 5.482211595525262],\n",
       " [0.0, 6.722611770653404, 6.722611770653404, 0.0],\n",
       " [5.976351398979002, 8.1364489836426, 8.1364489836426, 6.722611770653404],\n",
       " [0.0, 8.741747645821045, 8.741747645821045, 8.1364489836426],\n",
       " [8.212602376411454, 12.55093537849958, 12.55093537849958, 8.741747645821045],\n",
       " [0.0, 6.531650209070591, 6.531650209070591, 0.0],\n",
       " [0.0, 8.207965227948579, 8.207965227948579, 6.531650209070591],\n",
       " [0.0, 6.514299078033079, 6.514299078033079, 0.0],\n",
       " [0.0, 7.353007034380093, 7.353007034380093, 0.0],\n",
       " [6.514299078033079, 8.45199675986167, 8.45199675986167, 7.353007034380093],\n",
       " [8.207965227948579, 10.310123858414592, 10.310123858414592, 8.45199675986167],\n",
       " [0.0, 5.002345378611916, 5.002345378611916, 0.0],\n",
       " [0.0, 6.2429465676413844, 6.2429465676413844, 5.002345378611916],\n",
       " [0.0, 7.039312539624325, 7.039312539624325, 0.0],\n",
       " [0.0, 7.151077649530283, 7.151077649530283, 0.0],\n",
       " [0.0, 8.01035498332566, 8.01035498332566, 7.151077649530283],\n",
       " [7.039312539624325, 9.426034006873328, 9.426034006873328, 8.01035498332566],\n",
       " [6.2429465676413844,\n",
       "  10.492803991837247,\n",
       "  10.492803991837247,\n",
       "  9.426034006873328],\n",
       " [10.310123858414592,\n",
       "  14.849566731859822,\n",
       "  14.849566731859822,\n",
       "  10.492803991837247],\n",
       " [12.55093537849958, 17.22978035270552, 17.22978035270552, 14.849566731859822],\n",
       " [15.248591167185365,\n",
       "  19.930653637343596,\n",
       "  19.930653637343596,\n",
       "  17.22978035270552],\n",
       " [0.0, 11.278428238879092, 11.278428238879092, 0.0],\n",
       " [0.0, 12.22901057221552, 12.22901057221552, 11.278428238879092],\n",
       " [0.0, 15.406300180169971, 15.406300180169971, 12.22901057221552],\n",
       " [0.0, 9.868908528638759, 9.868908528638759, 0.0],\n",
       " [0.0, 14.591957417698477, 14.591957417698477, 9.868908528638759],\n",
       " [0.0, 11.632832021931371, 11.632832021931371, 0.0],\n",
       " [0.0, 16.021546686948085, 16.021546686948085, 11.632832021931371],\n",
       " [14.591957417698477,\n",
       "  17.99060793432408,\n",
       "  17.99060793432408,\n",
       "  16.021546686948085],\n",
       " [15.406300180169971, 19.74417911367964, 19.74417911367964, 17.99060793432408],\n",
       " [0.0, 11.096212005776264, 11.096212005776264, 0.0],\n",
       " [0.0, 12.928803948880438, 12.928803948880438, 11.096212005776264],\n",
       " [0.0, 12.815233088292551, 12.815233088292551, 0.0],\n",
       " [0.0, 11.307754089629055, 11.307754089629055, 0.0],\n",
       " [0.0, 13.508560897171925, 13.508560897171925, 11.307754089629055],\n",
       " [12.815233088292551,\n",
       "  14.888209847510455,\n",
       "  14.888209847510455,\n",
       "  13.508560897171925],\n",
       " [0.0, 10.964716521340216, 10.964716521340216, 0.0],\n",
       " [0.0, 13.529935591528194, 13.529935591528194, 10.964716521340216],\n",
       " [0.0, 10.197588788015656, 10.197588788015656, 0.0],\n",
       " [0.0, 13.952717914105175, 13.952717914105175, 10.197588788015656],\n",
       " [13.529935591528194,\n",
       "  17.595851378128017,\n",
       "  17.595851378128017,\n",
       "  13.952717914105175],\n",
       " [14.888209847510455,\n",
       "  18.835362830475106,\n",
       "  18.835362830475106,\n",
       "  17.595851378128017],\n",
       " [12.928803948880438,\n",
       "  21.265566898574093,\n",
       "  21.265566898574093,\n",
       "  18.835362830475106],\n",
       " [0.0, 29.187435653982114, 29.187435653982114, 21.265566898574093],\n",
       " [19.74417911367964,\n",
       "  35.323270049734234,\n",
       "  35.323270049734234,\n",
       "  29.187435653982114],\n",
       " [19.930653637343596,\n",
       "  176.46822671551948,\n",
       "  176.46822671551948,\n",
       "  35.323270049734234]]"
      ]
     },
     "execution_count": 296,
     "metadata": {},
     "output_type": "execute_result"
    }
   ],
   "source": [
    "Z['dcoord']"
   ]
  },
  {
   "cell_type": "code",
   "execution_count": 56,
   "id": "7cbf3d35-218f-415f-a0e3-8a8f57566388",
   "metadata": {},
   "outputs": [],
   "source": [
    "fig, ax=plt.subplots(figsize=[6,6,])\n",
    "# collection = mc.CircleCollection(10*sizes,\n",
    "#                                      #edgecolors=edge_colors, \n",
    "#                                      offsets=xy, \n",
    "#                                      transOffset=ax.transData, \n",
    "#                                      #facecolors=_colors,\n",
    "#                                      linewidths=2)\n",
    "collection = mc.RegularPolyCollection(\n",
    "    numsides=4, \n",
    "    rotation=np.pi/4,sizes=100*sizes,\n",
    "    facecolors=facecolors,\n",
    "    #edgecolors=(\"black\",),\n",
    "    #linewidths=(1,),\n",
    "    offsets=xy,\n",
    "    offset_transform=ax.transData,\n",
    "    )\n",
    "ax.add_collection(collection)\n",
    "ax.margins(0.1)"
   ]
  },
  {
   "cell_type": "code",
   "execution_count": 255,
   "id": "6212cbad-c2eb-4a78-985b-87990d7ede56",
   "metadata": {},
   "outputs": [],
   "source": [
    "a=None"
   ]
  },
  {
   "cell_type": "code",
   "execution_count": 260,
   "id": "eaa2b96d-e493-4cb6-bb6b-50aa42ec805d",
   "metadata": {},
   "outputs": [
    {
     "data": {
      "text/plain": [
       "True"
      ]
     },
     "execution_count": 260,
     "metadata": {},
     "output_type": "execute_result"
    }
   ],
   "source": [
    "type(a)==type(None)"
   ]
  },
  {
   "cell_type": "code",
   "execution_count": 262,
   "id": "a63a1a15-d3b4-4624-9a25-b5fc12640b0b",
   "metadata": {},
   "outputs": [],
   "source": [
    "a=np.array([0,33,4444522])"
   ]
  },
  {
   "cell_type": "code",
   "execution_count": 263,
   "id": "288ed881-efef-4462-b4d6-6287e307e066",
   "metadata": {},
   "outputs": [
    {
     "data": {
      "text/plain": [
       "array(['0', '33', '4444522'], dtype='<U21')"
      ]
     },
     "execution_count": 263,
     "metadata": {},
     "output_type": "execute_result"
    }
   ],
   "source": [
    "a.astype(str)"
   ]
  },
  {
   "cell_type": "code",
   "execution_count": null,
   "id": "4bb95596-23b6-496b-98d2-2ca371f8bbd1",
   "metadata": {},
   "outputs": [],
   "source": []
  }
 ],
 "metadata": {
  "kernelspec": {
   "display_name": "Python 3",
   "language": "python",
   "name": "python3"
  },
  "language_info": {
   "codemirror_mode": {
    "name": "ipython",
    "version": 3
   },
   "file_extension": ".py",
   "mimetype": "text/x-python",
   "name": "python",
   "nbconvert_exporter": "python",
   "pygments_lexer": "ipython3",
   "version": "3.8.10"
  }
 },
 "nbformat": 4,
 "nbformat_minor": 5
}
